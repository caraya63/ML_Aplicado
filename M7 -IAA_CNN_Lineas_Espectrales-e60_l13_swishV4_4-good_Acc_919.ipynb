{
 "cells": [
  {
   "cell_type": "markdown",
   "id": "d5bbf139",
   "metadata": {},
   "source": [
    "# Generation of training and testing data from models\n",
    "****\n",
    "- Data source: Dr. Michel Curé and Catalina Arcos, IFA UV\n",
    "- Each model is stored in a file with a name like: \"t4000g20v10.dat\", where\n",
    " - t is the effective temperature: 4000 [K]\n",
    " - g is 10 times the logarithm of the gravity in [cm/seg^2]: 20/10 = 2.0\n",
    " - v_rot is the rotational velocity in [km/seg]: 10\n",
    " \n",
    "- For this analysis we will consider:\n",
    " - v_rot >= 100\n",
    " - t_eff >= 15000\n",
    " - wavelength range [4460, 4480]\n",
    "\n",
    "- Note that the y axis is the normalized flux\n"
   ]
  },
  {
   "cell_type": "markdown",
   "id": "1514735f",
   "metadata": {},
   "source": [
    "## Needed libraries"
   ]
  },
  {
   "cell_type": "code",
   "execution_count": 1,
   "id": "7b8af453",
   "metadata": {},
   "outputs": [],
   "source": [
    "import glob\n",
    "import numpy as np\n",
    "import pandas as pd\n",
    "from matplotlib import pyplot as plt\n",
    "import shutil\n",
    "\n",
    "from sklearn.model_selection import train_test_split\n",
    "\n",
    "epochs=60\n",
    "prefijo=\"v4_4\"\n",
    "\n",
    "text_file = open(\"../informe1/\"+prefijo+\"_data.csv\", \"w\")"
   ]
  },
  {
   "cell_type": "markdown",
   "id": "ff6e1c6c",
   "metadata": {},
   "source": [
    "## Functions"
   ]
  },
  {
   "cell_type": "code",
   "execution_count": 2,
   "id": "070638e5",
   "metadata": {},
   "outputs": [],
   "source": [
    "def string2params(string, show=True):\n",
    "    s1 = string.partition(\"g\")\n",
    "    t = s1[0][1:]\n",
    "    s2 = s1[2].partition(\"v\")\n",
    "    g = s2[0]\n",
    "    v = s2[-1]\n",
    "    if show:\n",
    "        print(s1)\n",
    "        print(\"t:\",t)\n",
    "        print(s2)\n",
    "        print(\"g: \",float(g)/10)\n",
    "        print(\"v:\", v)\n",
    "    return float(t), float(g)/10, float(v)"
   ]
  },
  {
   "cell_type": "markdown",
   "id": "f1604739",
   "metadata": {},
   "source": [
    "## Files list"
   ]
  },
  {
   "cell_type": "code",
   "execution_count": 3,
   "id": "416941eb",
   "metadata": {},
   "outputs": [
    {
     "name": "stdout",
     "output_type": "stream",
     "text": [
      "Number of files in models 5425\n",
      "5 first files: \n",
      " ['../filtered_wv_models\\\\f_t15000g20v100.dat', '../filtered_wv_models\\\\f_t15000g20v110.dat', '../filtered_wv_models\\\\f_t15000g20v120.dat', '../filtered_wv_models\\\\f_t15000g20v130.dat', '../filtered_wv_models\\\\f_t15000g20v140.dat']\n"
     ]
    }
   ],
   "source": [
    "files = glob.glob('../filtered_wv_models/*')\n",
    "m = len(files)\n",
    "print(\"Number of files in models\", m)\n",
    "print(\"5 first files: \\n\", files[0:5])\n"
   ]
  },
  {
   "cell_type": "markdown",
   "id": "487add32",
   "metadata": {},
   "source": [
    "## Building X an y matrices\n",
    "*****"
   ]
  },
  {
   "cell_type": "code",
   "execution_count": 4,
   "id": "7c341313",
   "metadata": {},
   "outputs": [
    {
     "name": "stdout",
     "output_type": "stream",
     "text": [
      "--> X has dimension 5425  x 201\n",
      "--> y has diemsnion 5425  x 3\n"
     ]
    },
    {
     "data": {
      "text/plain": [
       "(201,)"
      ]
     },
     "metadata": {},
     "output_type": "display_data"
    },
    {
     "name": "stdout",
     "output_type": "stream",
     "text": [
      "Num. of points in x axis:  201\n"
     ]
    }
   ],
   "source": [
    "print(\"--> X has dimension\", m, \" x 201\")\n",
    "print(\"--> y has diemsnion\", m, \" x 3\")\n",
    "\n",
    "y = np.zeros((m,3))\n",
    "df = pd.read_csv(files[0], sep=\" \", header=None)\n",
    "x_points = df[0].values\n",
    "n_points, n_columns = df.shape\n",
    "display(df[1].values.shape)\n",
    "print(\"Num. of points in x axis: \", n_points)\n",
    "\n"
   ]
  },
  {
   "cell_type": "code",
   "execution_count": 5,
   "id": "b97b52e3",
   "metadata": {},
   "outputs": [],
   "source": [
    "# X matrix contains the spectral lines\n",
    "X = np.zeros((m,n_points))\n",
    "# y matrix contains the labels of each spectral line\n",
    "y = np.zeros((m,3))\n",
    "for i,name in enumerate(files):\n",
    "    file_name = name.split(\"\\\\\")[-1].split(\".\")[0]\n",
    "    #print(file_name)\n",
    "    df = pd.read_csv(name, sep=\" \", header=None)\n",
    "   # print(file_name.split(\"_\")[1])\n",
    "    t,g,v = string2params(file_name.split(\"_\")[1],False)\n",
    "    X[i,:] = df[1].values\n",
    "    y[i] = t,g,v\n",
    "    #print(\"----\")"
   ]
  },
  {
   "cell_type": "code",
   "execution_count": 6,
   "id": "77184ef3",
   "metadata": {},
   "outputs": [
    {
     "data": {
      "text/plain": [
       "['../informe1/v4_4_scaler2.bin']"
      ]
     },
     "execution_count": 6,
     "metadata": {},
     "output_type": "execute_result"
    }
   ],
   "source": [
    "from sklearn.preprocessing import MinMaxScaler, StandardScaler\n",
    "from sklearn.model_selection import train_test_split\n",
    "from sklearn.metrics import classification_report, plot_confusion_matrix\n",
    "\n",
    "\n",
    "# ¿Será necesario normalizar X?\n",
    "########\n",
    "#scaler = StandardScaler()\n",
    "#scaler.fit(X)\n",
    "#X_s = scaler.transform(X)\n",
    "\n",
    "# Normalización de los labels\n",
    "scaler2 = StandardScaler()\n",
    "scaler2.fit(y)\n",
    "y_s = scaler2.transform(y)\n",
    "from joblib import dump, load\n",
    "dump(scaler2, '../informe1/'+prefijo+'_scaler2.bin', compress=True)\n"
   ]
  },
  {
   "cell_type": "markdown",
   "id": "158b3fcc",
   "metadata": {},
   "source": [
    "## Training, testing and validation sets"
   ]
  },
  {
   "cell_type": "code",
   "execution_count": 7,
   "id": "2a81076b",
   "metadata": {},
   "outputs": [],
   "source": [
    "def train_val_test_split(X, y, train_size, val_size, test_size, random_state = 1):\n",
    "    if train_size + val_size + test_size != 1.0:\n",
    "        print(\"Incorrect sizes!\")\n",
    "        return None\n",
    "    \n",
    "    X_tmp, X_test, y_tmp, y_test = train_test_split(X, y, test_size = test_size, random_state=random_state)\n",
    "    X_train, X_val, y_train, y_val = train_test_split(X_tmp, y_tmp, test_size = val_size/(test_size + train_size), random_state=random_state)\n",
    "    return X_train, X_val, X_test, y_train, y_val, y_test"
   ]
  },
  {
   "cell_type": "code",
   "execution_count": 8,
   "id": "266c7d96",
   "metadata": {},
   "outputs": [],
   "source": [
    "X_train, X_val, X_test, y_train, y_val, y_test = train_val_test_split(X, y_s, .8, .1, .1)\n",
    "#X_train, X_val, X_test, y_train, y_val, y_test = train_val_test_split(X_s, y_s, .8, .1, .1)"
   ]
  },
  {
   "cell_type": "code",
   "execution_count": 9,
   "id": "59a828ef",
   "metadata": {
    "scrolled": true
   },
   "outputs": [
    {
     "name": "stdout",
     "output_type": "stream",
     "text": [
      "(4339, 201) (4339, 3)\n",
      "(543, 201) (543, 3)\n",
      "(543, 201) (543, 3)\n",
      "ytest[0]: [-1.24807544  0.          0.4472136 ]\n"
     ]
    }
   ],
   "source": [
    "# load numpy array from csv file\n",
    "from numpy import loadtxt\n",
    "#X_train = loadtxt('../informe1/X_train.csv', delimiter=';')\n",
    "#y_train = loadtxt('../informe1/y_train.csv', delimiter=';')\n",
    "#X_test = loadtxt('../informe1/X_test.csv', delimiter=';')\n",
    "#y_test = loadtxt('../informe1/y_test.csv', delimiter=';')\n",
    "#X_val = loadtxt('../informe1/X_val.csv', delimiter=';')\n",
    "#y_val = loadtxt('../informe1/y_val.csv', delimiter=';')\n",
    "\n",
    "from numpy import savetxt\n",
    "#savetxt('../informe1/X_train.csv', X_train, delimiter=';')\n",
    "#savetxt('../informe1/y_train.csv', y_train, delimiter=';')\n",
    "#savetxt('../informe1/X_test.csv', X_test, delimiter=';')\n",
    "#savetxt('../informe1/y_test.csv', y_test, delimiter=';')\n",
    "#savetxt('../informe1/X_val.csv', X_val, delimiter=';')\n",
    "#savetxt('../informe1/y_val.csv', y_val, delimiter=';')\n",
    "\n",
    "print(X_train.shape, y_train.shape)\n",
    "print(X_test.shape, y_test.shape)\n",
    "print(X_val.shape, y_val.shape)\n",
    "print(\"ytest[0]:\",y_test[0])\n",
    "#print(\"X_train[0]: \",X_train[0]);"
   ]
  },
  {
   "cell_type": "markdown",
   "id": "a44cf7c8",
   "metadata": {},
   "source": [
    "# Convolutional neural network"
   ]
  },
  {
   "cell_type": "code",
   "execution_count": 10,
   "id": "90614e20",
   "metadata": {},
   "outputs": [],
   "source": [
    "# about activation functions: https://datascience.stackexchange.com/questions/47751/what-activation-function-should-i-use-for-a-specific-regression-problem"
   ]
  },
  {
   "cell_type": "code",
   "execution_count": 11,
   "id": "c1941b5e",
   "metadata": {},
   "outputs": [
    {
     "name": "stdout",
     "output_type": "stream",
     "text": [
      "sample_size: 4339 time_steps:  201 input_dimension:  1\n"
     ]
    }
   ],
   "source": [
    "# https://colab.research.google.com/drive/1zjh0tUPYJYgJJunpLC9fW5uf--O0LKeZ?usp=sharing#scrollTo=ud_tq1A0Ffvl\n",
    "\n",
    "time_steps = X.shape[1]\n",
    "input_dimension = 1\n",
    "sample_size = X_train.shape[0]\n",
    "print(\"sample_size:\",sample_size,\"time_steps: \",time_steps,\"input_dimension: \",input_dimension)"
   ]
  },
  {
   "cell_type": "code",
   "execution_count": 12,
   "id": "281627e8",
   "metadata": {},
   "outputs": [],
   "source": [
    "sample_size = X_train.shape[0]\n",
    "X_train_reshaped = X_train.reshape((sample_size, time_steps, input_dimension))\n",
    "sample_size = X_val.shape[0]\n",
    "X_val_reshaped = X_val.reshape((sample_size, time_steps, input_dimension))\n",
    "sample_size = X_test.shape[0]\n",
    "X_test_reshaped = X_test.reshape((sample_size, time_steps, input_dimension))"
   ]
  },
  {
   "cell_type": "code",
   "execution_count": 13,
   "id": "4cdfad1e",
   "metadata": {},
   "outputs": [
    {
     "name": "stdout",
     "output_type": "stream",
     "text": [
      "(4339, 201, 1)\n",
      "(543, 201, 1)\n",
      "(543, 201, 1)\n",
      "X_train_reshaped[0]:  [[0.9991277]\n",
      " [0.9991139]\n",
      " [0.9990969]\n",
      " [0.9990771]\n",
      " [0.9990589]\n",
      " [0.9990421]\n",
      " [0.9990269]\n",
      " [0.999013 ]\n",
      " [0.9990005]\n",
      " [0.9989894]\n",
      " [0.9989796]\n",
      " [0.9989712]\n",
      " [0.9989641]\n",
      " [0.9989584]\n",
      " [0.998954 ]\n",
      " [0.9989508]\n",
      " [0.998949 ]\n",
      " [0.9989485]\n",
      " [0.9989713]\n",
      " [0.9990106]\n",
      " [0.9990635]\n",
      " [0.9991286]\n",
      " [0.9991828]\n",
      " [0.9992322]\n",
      " [0.999277 ]\n",
      " [0.9993187]\n",
      " [0.9993583]\n",
      " [0.999396 ]\n",
      " [0.9994324]\n",
      " [0.9994632]\n",
      " [0.9994811]\n",
      " [0.9994831]\n",
      " [0.9994772]\n",
      " [0.9994727]\n",
      " [0.9994717]\n",
      " [0.9994745]\n",
      " [0.9994796]\n",
      " [0.9994865]\n",
      " [0.999495 ]\n",
      " [0.9995051]\n",
      " [0.9995144]\n",
      " [0.9995215]\n",
      " [0.9995299]\n",
      " [0.9995438]\n",
      " [0.9995845]\n",
      " [0.9996454]\n",
      " [0.9996995]\n",
      " [0.9997504]\n",
      " [0.9997949]\n",
      " [0.9998433]\n",
      " [0.999898 ]\n",
      " [0.9999782]\n",
      " [1.000043 ]\n",
      " [1.000085 ]\n",
      " [1.000102 ]\n",
      " [1.000104 ]\n",
      " [1.000096 ]\n",
      " [1.00008  ]\n",
      " [1.000066 ]\n",
      " [1.000056 ]\n",
      " [1.000047 ]\n",
      " [1.000031 ]\n",
      " [1.000002 ]\n",
      " [0.9999605]\n",
      " [0.9999073]\n",
      " [0.999842 ]\n",
      " [0.9997619]\n",
      " [0.9996651]\n",
      " [0.99955  ]\n",
      " [0.9994135]\n",
      " [0.9992456]\n",
      " [0.9990381]\n",
      " [0.9987771]\n",
      " [0.9984411]\n",
      " [0.9979578]\n",
      " [0.9971438]\n",
      " [0.9957734]\n",
      " [0.9937354]\n",
      " [0.9910213]\n",
      " [0.9876746]\n",
      " [0.9837603]\n",
      " [0.9793649]\n",
      " [0.9745971]\n",
      " [0.9695892]\n",
      " [0.9645092]\n",
      " [0.9595618]\n",
      " [0.9548979]\n",
      " [0.9505317]\n",
      " [0.9464203]\n",
      " [0.9425243]\n",
      " [0.9388447]\n",
      " [0.9353671]\n",
      " [0.9320851]\n",
      " [0.9289969]\n",
      " [0.9260731]\n",
      " [0.9233101]\n",
      " [0.9207001]\n",
      " [0.9182393]\n",
      " [0.9159252]\n",
      " [0.9137561]\n",
      " [0.9117305]\n",
      " [0.9098462]\n",
      " [0.9080919]\n",
      " [0.9064577]\n",
      " [0.9049414]\n",
      " [0.9035485]\n",
      " [0.9022838]\n",
      " [0.9011475]\n",
      " [0.9001382]\n",
      " [0.8992551]\n",
      " [0.8984996]\n",
      " [0.8978711]\n",
      " [0.8973662]\n",
      " [0.8969803]\n",
      " [0.8967118]\n",
      " [0.8965582]\n",
      " [0.8965454]\n",
      " [0.8966818]\n",
      " [0.8969446]\n",
      " [0.8973374]\n",
      " [0.8978529]\n",
      " [0.8984948]\n",
      " [0.8992579]\n",
      " [0.9001752]\n",
      " [0.9012254]\n",
      " [0.9024087]\n",
      " [0.9037215]\n",
      " [0.9051657]\n",
      " [0.9067395]\n",
      " [0.9084421]\n",
      " [0.9102823]\n",
      " [0.9122657]\n",
      " [0.9143985]\n",
      " [0.9166795]\n",
      " [0.9191073]\n",
      " [0.921682 ]\n",
      " [0.9244075]\n",
      " [0.927289 ]\n",
      " [0.9303306]\n",
      " [0.933538 ]\n",
      " [0.9369201]\n",
      " [0.9404878]\n",
      " [0.9442522]\n",
      " [0.9482308]\n",
      " [0.9524492]\n",
      " [0.9569509]\n",
      " [0.9617726]\n",
      " [0.9668313]\n",
      " [0.9718993]\n",
      " [0.9767568]\n",
      " [0.9812449]\n",
      " [0.9852558]\n",
      " [0.9887129]\n",
      " [0.9915615]\n",
      " [0.9937746]\n",
      " [0.9953546]\n",
      " [0.9963572]\n",
      " [0.9969395]\n",
      " [0.9973075]\n",
      " [0.9975803]\n",
      " [0.997797 ]\n",
      " [0.9979745]\n",
      " [0.9981009]\n",
      " [0.9981418]\n",
      " [0.9980839]\n",
      " [0.9979563]\n",
      " [0.9978176]\n",
      " [0.9976967]\n",
      " [0.9975932]\n",
      " [0.9974993]\n",
      " [0.9974116]\n",
      " [0.9973297]\n",
      " [0.9972485]\n",
      " [0.9971628]\n",
      " [0.9970259]\n",
      " [0.9967702]\n",
      " [0.996361 ]\n",
      " [0.9958244]\n",
      " [0.995205 ]\n",
      " [0.9945627]\n",
      " [0.9939615]\n",
      " [0.9934222]\n",
      " [0.9929319]\n",
      " [0.992478 ]\n",
      " [0.9920535]\n",
      " [0.9916569]\n",
      " [0.9912846]\n",
      " [0.9909343]\n",
      " [0.9906045]\n",
      " [0.9902937]\n",
      " [0.9900001]\n",
      " [0.9897253]\n",
      " [0.9894688]\n",
      " [0.9892299]\n",
      " [0.9890083]\n",
      " [0.9888036]\n",
      " [0.9886154]\n",
      " [0.9884435]\n",
      " [0.9882876]\n",
      " [0.9881475]\n",
      " [0.988023 ]]\n"
     ]
    }
   ],
   "source": [
    "print(X_train_reshaped.shape)\n",
    "print(X_val_reshaped.shape)\n",
    "print(X_test_reshaped.shape)\n",
    "print(\"X_train_reshaped[0]: \",X_train_reshaped[0]);"
   ]
  },
  {
   "cell_type": "markdown",
   "id": "e94553e2",
   "metadata": {},
   "source": [
    "# Histograms\n",
    "*****\n"
   ]
  },
  {
   "cell_type": "code",
   "execution_count": 14,
   "id": "749587ea",
   "metadata": {},
   "outputs": [],
   "source": [
    "def histograms_params(train, test, val, bins, labels, title=None):\n",
    "    plt.figure()\n",
    "    plt.hist(train, bins='auto', label=labels[0])\n",
    "    if val is not None:\n",
    "        plt.hist(val, bins='auto', label=labels[1])\n",
    "    if test is not None:\n",
    "        plt.hist(test, bins='auto', label=labels[2], alpha=0.3)\n",
    "    \n",
    "    if title is not None:\n",
    "        plt.title(title)\n",
    "    plt.legend(loc=\"best\")\n",
    "    plt.show()\n",
    "    \n",
    "def plot_params(X,train, labels, title=None):\n",
    "    plt.figure()\n",
    "    plt.plot(X,train)\n",
    "    \n",
    "    if title is not None:\n",
    "        plt.title(title)\n",
    "    plt.legend(loc=\"best\")\n",
    "    plt.show()    \n",
    "    \n",
    "\n",
    "#import seaborn as sns\n",
    "#sns.set_theme(style=\"whitegrid\")\n"
   ]
  },
  {
   "cell_type": "code",
   "execution_count": 15,
   "id": "0d430cf7",
   "metadata": {},
   "outputs": [
    {
     "data": {
      "image/png": "[encoded data removed]",
      "text/plain": [
       "<Figure size 432x288 with 1 Axes>"
      ]
     },
     "metadata": {
      "needs_background": "light"
     },
     "output_type": "display_data"
    },
    {
     "name": "stderr",
     "output_type": "stream",
     "text": [
      "No artists with labels found to put in legend.  Note that artists whose label start with an underscore are ignored when legend() is called with no argument.\n"
     ]
    },
    {
     "data": {
      "image/png": "[encoded data removed]",
      "text/plain": [
       "<Figure size 432x288 with 1 Axes>"
      ]
     },
     "metadata": {
      "needs_background": "light"
     },
     "output_type": "display_data"
    },
    {
     "data": {
      "image/png": "[encoded data removed]",
      "text/plain": [
       "<Figure size 432x288 with 1 Axes>"
      ]
     },
     "metadata": {
      "needs_background": "light"
     },
     "output_type": "display_data"
    },
    {
     "data": {
      "image/png": "[encoded data removed]",
      "text/plain": [
       "<Figure size 432x288 with 1 Axes>"
      ]
     },
     "metadata": {
      "needs_background": "light"
     },
     "output_type": "display_data"
    },
    {
     "data": {
      "image/png": "[encoded data removed]",
      "text/plain": [
       "<Figure size 432x288 with 1 Axes>"
      ]
     },
     "metadata": {
      "needs_background": "light"
     },
     "output_type": "display_data"
    }
   ],
   "source": [
    "histograms_params(X_train[:,0], X_val[:,0], X_test[:,0], 0, [\"train\", \"test\", \"val\"])\n",
    "plot_params(y_s[:,0],X, [\"train\", \"test\", \"val\"])\n",
    "\n",
    "histograms_params(y_train[:,0], y_val[:,0], y_test[:,0], 0, [\"train\", \"test\", \"val\"],\"Temperature\")\n",
    "histograms_params(y_train[:,1], y_val[:,1], y_test[:,1], 0, [\"train\", \"test\", \"val\"], \"Log g\")\n",
    "histograms_params(y_train[:,2], y_val[:,2], y_test[:,2], 0, [\"train\", \"test\", \"val\"], \"v rot\")"
   ]
  },
  {
   "cell_type": "code",
   "execution_count": 16,
   "id": "0c3df83b",
   "metadata": {},
   "outputs": [],
   "source": [
    "import tensorflow as tf\n",
    "import keras"
   ]
  },
  {
   "cell_type": "markdown",
   "id": "a71be514",
   "metadata": {},
   "source": [
    "### Optimizar los parámetros de esta red\n",
    "***\n",
    "- Puede cambiar la arquitectura, agregando o quitando capas, modificando las funciones de activación, cambiando la función de pérdida, etc."
   ]
  },
  {
   "cell_type": "code",
   "execution_count": 24,
   "id": "13fba70c",
   "metadata": {
    "scrolled": false
   },
   "outputs": [
    {
     "name": "stdout",
     "output_type": "stream",
     "text": [
      "Model: \"model_conv1D\"\n",
      "_________________________________________________________________\n",
      " Layer (type)                Output Shape              Param #   \n",
      "=================================================================\n",
      " Conv1D_1 (Conv1D)           (None, 188, 256)          3840      \n",
      "                                                                 \n",
      " Conv1D_2 (Conv1D)           (None, 182, 512)          918016    \n",
      "                                                                 \n",
      " Conv1D_3 (Conv1D)           (None, 176, 256)          917760    \n",
      "                                                                 \n",
      " Conv1D_4 (Conv1D)           (None, 170, 128)          229504    \n",
      "                                                                 \n",
      " Conv1D_5 (Conv1D)           (None, 164, 64)           57408     \n",
      "                                                                 \n",
      " Conv1D_6 (Conv1D)           (None, 158, 64)           28736     \n",
      "                                                                 \n",
      " Conv1D_7 (Conv1D)           (None, 156, 32)           6176      \n",
      "                                                                 \n",
      " Conv1D_8 (Conv1D)           (None, 154, 32)           3104      \n",
      "                                                                 \n",
      " flatten_3 (Flatten)         (None, 4928)              0         \n",
      "                                                                 \n",
      " Dense_1 (Dense)             (None, 32)                157728    \n",
      "                                                                 \n",
      " Dense_2 (Dense)             (None, 16)                528       \n",
      "                                                                 \n",
      " Dense_3 (Dense)             (None, 8)                 136       \n",
      "                                                                 \n",
      " Dense_4 (Dense)             (None, 3)                 27        \n",
      "                                                                 \n",
      "=================================================================\n",
      "Total params: 2,322,963\n",
      "Trainable params: 2,322,963\n",
      "Non-trainable params: 0\n",
      "_________________________________________________________________\n",
      "Layers:  13\n",
      "Epocs: 60\n"
     ]
    },
    {
     "data": {
      "text/plain": [
       "19"
      ]
     },
     "execution_count": 24,
     "metadata": {},
     "output_type": "execute_result"
    }
   ],
   "source": [
    "def build_conv1D_model():\n",
    "    n_timesteps = X_train_reshaped.shape[1] #201\n",
    "    n_features  = X_train_reshaped.shape[2] #1 \n",
    "    model = keras.Sequential(name=\"model_conv1D\")\n",
    "    model.add(keras.layers.Input(shape=(n_timesteps,n_features)))\n",
    "    model.add(keras.layers.Conv1D(filters=256, kernel_size=14, activation='swish', name=\"Conv1D_1\"))\n",
    "    \n",
    "    #se agrega\n",
    "    model.add(keras.layers.Conv1D(filters=512, kernel_size=7, activation='swish', name=\"Conv1D_2\"))\n",
    "    model.add(keras.layers.Conv1D(filters=256, kernel_size=7, activation='swish', name=\"Conv1D_3\"))\n",
    "    model.add(keras.layers.Conv1D(filters=128, kernel_size=7, activation='swish', name=\"Conv1D_4\"))    \n",
    "    model.add(keras.layers.Conv1D(filters=64, kernel_size=7, activation='swish', name=\"Conv1D_5\"))\n",
    "    model.add(keras.layers.Conv1D(filters=64, kernel_size=7, activation='swish', name=\"Conv1D_6\")) #se subio a 7 kernel\n",
    "    model.add(keras.layers.Conv1D(filters=32, kernel_size=3, activation='swish', name=\"Conv1D_7\"))\n",
    "    model.add(keras.layers.Conv1D(filters=32, kernel_size=3, activation='swish', name=\"Conv1D_8\"))\n",
    "    \n",
    "    tf.keras.layers.BatchNormalization()\n",
    "    \n",
    "    model.add(keras.layers.Flatten())\n",
    "\n",
    "    model.add(keras.layers.Dense(32, activation= \"selu\", name=\"Dense_1\"))\n",
    "    #se agregan\n",
    "    model.add(keras.layers.Dense(16, activation= \"selu\", name=\"Dense_2\"))\n",
    "    model.add(keras.layers.Dense(8, activation= \"selu\", name=\"Dense_3\"))\n",
    "    model.add(keras.layers.Dense(3, activation = \"linear\", name=\"Dense_4\"))\n",
    "    \n",
    "    learningRate = 0.001    \n",
    "    text_file.write(\"\\nLearning rate;\"+str(learningRate).replace(\".\",\",\"))\n",
    "    optimizer = tf.keras.optimizers.RMSprop(learningRate)\n",
    "\n",
    "    l = tf.keras.losses.LogCosh()\n",
    "    lossFunction = \"log_cosh\"\n",
    "    \n",
    "    text_file.write(\"\\nloss function;\"+str(lossFunction).replace(\".\",\",\"))\n",
    "    \n",
    "    model.compile(loss=lossFunction,optimizer=optimizer,metrics=[lossFunction,'accuracy'])\n",
    "    return model\n",
    "\n",
    "model_conv1D = build_conv1D_model()\n",
    "model_conv1D.summary()\n",
    "nlayers = len(model_conv1D.layers)\n",
    "print(\"Layers: \",nlayers)\n",
    "print(\"Epocs:\",epochs)\n",
    "text_file.write(\"\\nCapas;\"+str(nlayers).replace(\".\",\",\"))\n",
    "text_file.write(\"\\nEpoch;\"+str(epochs).replace(\".\",\",\"))\n",
    "text_file.write(\"\\nParametros;\"+str(model_conv1D.count_params()).replace(\".\",\",\"))\n"
   ]
  },
  {
   "cell_type": "code",
   "execution_count": 25,
   "id": "7725c634",
   "metadata": {
    "scrolled": true
   },
   "outputs": [
    {
     "name": "stdout",
     "output_type": "stream",
     "text": [
      "Epoch 1/60\n",
      "136/136 [==============================] - 30s 211ms/step - loss: 0.8043 - log_cosh: 0.8043 - accuracy: 0.3376 - val_loss: 0.4451 - val_log_cosh: 0.4451 - val_accuracy: 0.1381\n",
      "Epoch 2/60\n",
      "136/136 [==============================] - 29s 216ms/step - loss: 0.7547 - log_cosh: 0.7547 - accuracy: 0.3372 - val_loss: 0.4035 - val_log_cosh: 0.4035 - val_accuracy: 0.3738\n",
      "Epoch 3/60\n",
      "136/136 [==============================] - 29s 214ms/step - loss: 0.4182 - log_cosh: 0.4182 - accuracy: 0.3499 - val_loss: 0.4571 - val_log_cosh: 0.4571 - val_accuracy: 0.4880\n",
      "Epoch 4/60\n",
      "136/136 [==============================] - 29s 216ms/step - loss: 0.7475 - log_cosh: 0.7475 - accuracy: 0.3609 - val_loss: 0.4032 - val_log_cosh: 0.4032 - val_accuracy: 0.3738\n",
      "Epoch 5/60\n",
      "136/136 [==============================] - 29s 212ms/step - loss: 0.5011 - log_cosh: 0.5011 - accuracy: 0.3556 - val_loss: 0.3925 - val_log_cosh: 0.3925 - val_accuracy: 0.3904\n",
      "Epoch 6/60\n",
      "136/136 [==============================] - 29s 215ms/step - loss: 0.4879 - log_cosh: 0.4879 - accuracy: 0.3690 - val_loss: 0.3074 - val_log_cosh: 0.3074 - val_accuracy: 0.5617\n",
      "Epoch 7/60\n",
      "136/136 [==============================] - 30s 217ms/step - loss: 0.7269 - log_cosh: 0.7269 - accuracy: 0.4112 - val_loss: 0.5435 - val_log_cosh: 0.5435 - val_accuracy: 0.3039\n",
      "Epoch 8/60\n",
      "136/136 [==============================] - 29s 212ms/step - loss: 0.3999 - log_cosh: 0.3999 - accuracy: 0.4771 - val_loss: 0.3356 - val_log_cosh: 0.3356 - val_accuracy: 0.5672\n",
      "Epoch 9/60\n",
      "136/136 [==============================] - 29s 217ms/step - loss: 0.3502 - log_cosh: 0.3502 - accuracy: 0.5225 - val_loss: 0.2571 - val_log_cosh: 0.2571 - val_accuracy: 0.6427\n",
      "Epoch 10/60\n",
      "136/136 [==============================] - 29s 215ms/step - loss: 0.3002 - log_cosh: 0.3002 - accuracy: 0.5953 - val_loss: 0.2188 - val_log_cosh: 0.2188 - val_accuracy: 0.7072\n",
      "Epoch 11/60\n",
      "136/136 [==============================] - 29s 215ms/step - loss: 0.2797 - log_cosh: 0.2797 - accuracy: 0.6354 - val_loss: 0.2380 - val_log_cosh: 0.2380 - val_accuracy: 0.7109\n",
      "Epoch 12/60\n",
      "136/136 [==============================] - 29s 214ms/step - loss: 0.2399 - log_cosh: 0.2399 - accuracy: 0.6644 - val_loss: 0.1904 - val_log_cosh: 0.1904 - val_accuracy: 0.7569\n",
      "Epoch 13/60\n",
      "136/136 [==============================] - 30s 217ms/step - loss: 0.2290 - log_cosh: 0.2290 - accuracy: 0.7140 - val_loss: 0.1633 - val_log_cosh: 0.1633 - val_accuracy: 0.8029\n",
      "Epoch 14/60\n",
      "136/136 [==============================] - 30s 221ms/step - loss: 0.1989 - log_cosh: 0.1989 - accuracy: 0.7506 - val_loss: 0.1490 - val_log_cosh: 0.1490 - val_accuracy: 0.8250\n",
      "Epoch 15/60\n",
      "136/136 [==============================] - 30s 217ms/step - loss: 0.1312 - log_cosh: 0.1312 - accuracy: 0.8046 - val_loss: 0.1067 - val_log_cosh: 0.1067 - val_accuracy: 0.8343\n",
      "Epoch 16/60\n",
      "136/136 [==============================] - 29s 214ms/step - loss: 0.0945 - log_cosh: 0.0945 - accuracy: 0.8431 - val_loss: 0.1627 - val_log_cosh: 0.1627 - val_accuracy: 0.7827\n",
      "Epoch 17/60\n",
      "136/136 [==============================] - 30s 220ms/step - loss: 0.0850 - log_cosh: 0.0850 - accuracy: 0.8564 - val_loss: 0.1155 - val_log_cosh: 0.1155 - val_accuracy: 0.8361\n",
      "Epoch 18/60\n",
      "136/136 [==============================] - 29s 217ms/step - loss: 0.0786 - log_cosh: 0.0786 - accuracy: 0.8562 - val_loss: 0.0699 - val_log_cosh: 0.0699 - val_accuracy: 0.8564\n",
      "Epoch 19/60\n",
      "136/136 [==============================] - 29s 213ms/step - loss: 0.0685 - log_cosh: 0.0685 - accuracy: 0.8689 - val_loss: 0.0459 - val_log_cosh: 0.0459 - val_accuracy: 0.8821\n",
      "Epoch 20/60\n",
      "136/136 [==============================] - 29s 214ms/step - loss: 0.0649 - log_cosh: 0.0649 - accuracy: 0.8645 - val_loss: 0.0711 - val_log_cosh: 0.0711 - val_accuracy: 0.8711\n",
      "Epoch 21/60\n",
      "136/136 [==============================] - 30s 223ms/step - loss: 0.0586 - log_cosh: 0.0586 - accuracy: 0.8732 - val_loss: 0.0586 - val_log_cosh: 0.0586 - val_accuracy: 0.8913\n",
      "Epoch 22/60\n",
      "136/136 [==============================] - 30s 222ms/step - loss: 0.0580 - log_cosh: 0.0580 - accuracy: 0.8887 - val_loss: 0.0556 - val_log_cosh: 0.0556 - val_accuracy: 0.8858\n",
      "Epoch 23/60\n",
      "136/136 [==============================] - 29s 216ms/step - loss: 0.0494 - log_cosh: 0.0494 - accuracy: 0.8868 - val_loss: 0.1125 - val_log_cosh: 0.1125 - val_accuracy: 0.8582\n",
      "Epoch 24/60\n",
      "136/136 [==============================] - 30s 218ms/step - loss: 0.0515 - log_cosh: 0.0515 - accuracy: 0.8875 - val_loss: 0.0451 - val_log_cosh: 0.0451 - val_accuracy: 0.9134\n",
      "Epoch 25/60\n",
      "136/136 [==============================] - 30s 219ms/step - loss: 0.0507 - log_cosh: 0.0507 - accuracy: 0.8882 - val_loss: 0.0727 - val_log_cosh: 0.0727 - val_accuracy: 0.8637\n",
      "Epoch 26/60\n",
      "136/136 [==============================] - 29s 215ms/step - loss: 0.0465 - log_cosh: 0.0465 - accuracy: 0.8910 - val_loss: 0.0400 - val_log_cosh: 0.0400 - val_accuracy: 0.8913\n",
      "Epoch 27/60\n",
      "136/136 [==============================] - 28s 209ms/step - loss: 0.1133 - log_cosh: 0.1133 - accuracy: 0.8914 - val_loss: 0.0572 - val_log_cosh: 0.0572 - val_accuracy: 0.8748\n",
      "Epoch 28/60\n",
      "136/136 [==============================] - 29s 216ms/step - loss: 0.0449 - log_cosh: 0.0449 - accuracy: 0.8977 - val_loss: 0.0602 - val_log_cosh: 0.0602 - val_accuracy: 0.9006\n",
      "Epoch 29/60\n",
      "136/136 [==============================] - 30s 220ms/step - loss: 0.0425 - log_cosh: 0.0425 - accuracy: 0.8949 - val_loss: 0.0457 - val_log_cosh: 0.0457 - val_accuracy: 0.8840\n",
      "Epoch 30/60\n",
      "136/136 [==============================] - 29s 213ms/step - loss: 0.0480 - log_cosh: 0.0480 - accuracy: 0.8928 - val_loss: 0.0382 - val_log_cosh: 0.0382 - val_accuracy: 0.9245\n",
      "Epoch 31/60\n",
      "136/136 [==============================] - 29s 212ms/step - loss: 0.0478 - log_cosh: 0.0478 - accuracy: 0.8852 - val_loss: 0.0374 - val_log_cosh: 0.0374 - val_accuracy: 0.9282\n",
      "Epoch 32/60\n",
      "136/136 [==============================] - 29s 212ms/step - loss: 0.0409 - log_cosh: 0.0409 - accuracy: 0.8954 - val_loss: 0.0415 - val_log_cosh: 0.0415 - val_accuracy: 0.8692\n",
      "Epoch 33/60\n",
      "136/136 [==============================] - 28s 209ms/step - loss: 0.0411 - log_cosh: 0.0411 - accuracy: 0.9041 - val_loss: 0.0413 - val_log_cosh: 0.0413 - val_accuracy: 0.9061\n",
      "Epoch 34/60\n",
      "136/136 [==============================] - 28s 208ms/step - loss: 0.0389 - log_cosh: 0.0389 - accuracy: 0.9025 - val_loss: 0.0415 - val_log_cosh: 0.0415 - val_accuracy: 0.9042\n",
      "Epoch 35/60\n",
      "136/136 [==============================] - 28s 209ms/step - loss: 0.0411 - log_cosh: 0.0411 - accuracy: 0.9030 - val_loss: 0.0441 - val_log_cosh: 0.0441 - val_accuracy: 0.9042\n",
      "Epoch 36/60\n",
      "136/136 [==============================] - 28s 210ms/step - loss: 0.0368 - log_cosh: 0.0368 - accuracy: 0.9085 - val_loss: 0.0541 - val_log_cosh: 0.0541 - val_accuracy: 0.8785\n",
      "Epoch 37/60\n",
      "136/136 [==============================] - 28s 208ms/step - loss: 0.0358 - log_cosh: 0.0358 - accuracy: 0.9087 - val_loss: 0.0469 - val_log_cosh: 0.0469 - val_accuracy: 0.9006\n",
      "Epoch 38/60\n",
      "136/136 [==============================] - 28s 207ms/step - loss: 0.0393 - log_cosh: 0.0393 - accuracy: 0.9041 - val_loss: 0.0374 - val_log_cosh: 0.0374 - val_accuracy: 0.8932\n",
      "Epoch 39/60\n",
      "136/136 [==============================] - 28s 206ms/step - loss: 0.0344 - log_cosh: 0.0344 - accuracy: 0.9080 - val_loss: 0.0607 - val_log_cosh: 0.0607 - val_accuracy: 0.8858\n",
      "Epoch 40/60\n",
      "136/136 [==============================] - 28s 210ms/step - loss: 0.0360 - log_cosh: 0.0360 - accuracy: 0.9103 - val_loss: 0.0308 - val_log_cosh: 0.0308 - val_accuracy: 0.9337\n",
      "Epoch 41/60\n",
      "136/136 [==============================] - 28s 207ms/step - loss: 0.0355 - log_cosh: 0.0355 - accuracy: 0.9094 - val_loss: 0.0384 - val_log_cosh: 0.0384 - val_accuracy: 0.8877\n",
      "Epoch 42/60\n",
      "136/136 [==============================] - 29s 210ms/step - loss: 0.0408 - log_cosh: 0.0408 - accuracy: 0.9007 - val_loss: 0.0313 - val_log_cosh: 0.0313 - val_accuracy: 0.9134\n",
      "Epoch 43/60\n",
      "136/136 [==============================] - 28s 205ms/step - loss: 0.0339 - log_cosh: 0.0339 - accuracy: 0.9127 - val_loss: 0.0314 - val_log_cosh: 0.0314 - val_accuracy: 0.9134\n",
      "Epoch 44/60\n",
      "136/136 [==============================] - 28s 206ms/step - loss: 0.0340 - log_cosh: 0.0340 - accuracy: 0.9069 - val_loss: 0.0332 - val_log_cosh: 0.0332 - val_accuracy: 0.9300\n"
     ]
    },
    {
     "name": "stdout",
     "output_type": "stream",
     "text": [
      "Epoch 45/60\n",
      "136/136 [==============================] - 28s 206ms/step - loss: 0.0340 - log_cosh: 0.0340 - accuracy: 0.9117 - val_loss: 0.0507 - val_log_cosh: 0.0507 - val_accuracy: 0.9282\n",
      "Epoch 46/60\n",
      "136/136 [==============================] - 28s 206ms/step - loss: 0.0343 - log_cosh: 0.0343 - accuracy: 0.9062 - val_loss: 0.0310 - val_log_cosh: 0.0310 - val_accuracy: 0.9190\n",
      "Epoch 47/60\n",
      "136/136 [==============================] - 28s 204ms/step - loss: 0.0324 - log_cosh: 0.0324 - accuracy: 0.9186 - val_loss: 0.0296 - val_log_cosh: 0.0296 - val_accuracy: 0.9337\n",
      "Epoch 48/60\n",
      "136/136 [==============================] - 28s 206ms/step - loss: 0.0336 - log_cosh: 0.0336 - accuracy: 0.9182 - val_loss: 0.0313 - val_log_cosh: 0.0313 - val_accuracy: 0.9190\n",
      "Epoch 49/60\n",
      "136/136 [==============================] - 28s 208ms/step - loss: 0.0360 - log_cosh: 0.0360 - accuracy: 0.9078 - val_loss: 0.0326 - val_log_cosh: 0.0326 - val_accuracy: 0.9024\n",
      "Epoch 50/60\n",
      "136/136 [==============================] - 28s 208ms/step - loss: 0.0315 - log_cosh: 0.0315 - accuracy: 0.9122 - val_loss: 0.0332 - val_log_cosh: 0.0332 - val_accuracy: 0.9245\n",
      "Epoch 51/60\n",
      "136/136 [==============================] - 28s 207ms/step - loss: 0.0362 - log_cosh: 0.0362 - accuracy: 0.9129 - val_loss: 0.0360 - val_log_cosh: 0.0360 - val_accuracy: 0.9134\n",
      "Epoch 52/60\n",
      "136/136 [==============================] - 28s 208ms/step - loss: 0.0308 - log_cosh: 0.0308 - accuracy: 0.9214 - val_loss: 0.0322 - val_log_cosh: 0.0322 - val_accuracy: 0.9263\n",
      "Epoch 53/60\n",
      "136/136 [==============================] - 28s 209ms/step - loss: 0.0307 - log_cosh: 0.0307 - accuracy: 0.9205 - val_loss: 0.0488 - val_log_cosh: 0.0488 - val_accuracy: 0.8895\n",
      "Epoch 54/60\n",
      "136/136 [==============================] - 28s 208ms/step - loss: 0.0302 - log_cosh: 0.0302 - accuracy: 0.9203 - val_loss: 0.0352 - val_log_cosh: 0.0352 - val_accuracy: 0.9061\n",
      "Epoch 55/60\n",
      "136/136 [==============================] - 28s 207ms/step - loss: 0.0314 - log_cosh: 0.0314 - accuracy: 0.9175 - val_loss: 0.0391 - val_log_cosh: 0.0391 - val_accuracy: 0.8987\n",
      "Epoch 56/60\n",
      "136/136 [==============================] - 28s 208ms/step - loss: 0.0296 - log_cosh: 0.0296 - accuracy: 0.9239 - val_loss: 0.0286 - val_log_cosh: 0.0286 - val_accuracy: 0.9282\n",
      "Epoch 57/60\n",
      "136/136 [==============================] - 29s 210ms/step - loss: 0.0311 - log_cosh: 0.0311 - accuracy: 0.9223 - val_loss: 0.0424 - val_log_cosh: 0.0424 - val_accuracy: 0.8674\n",
      "Epoch 58/60\n",
      "136/136 [==============================] - 29s 210ms/step - loss: 0.0301 - log_cosh: 0.0301 - accuracy: 0.9198 - val_loss: 0.0303 - val_log_cosh: 0.0303 - val_accuracy: 0.9171\n",
      "Epoch 59/60\n",
      "136/136 [==============================] - 28s 207ms/step - loss: 0.0299 - log_cosh: 0.0299 - accuracy: 0.9219 - val_loss: 0.0288 - val_log_cosh: 0.0288 - val_accuracy: 0.9263\n",
      "Epoch 60/60\n",
      "136/136 [==============================] - 29s 212ms/step - loss: 0.0292 - log_cosh: 0.0292 - accuracy: 0.9173 - val_loss: 0.0279 - val_log_cosh: 0.0279 - val_accuracy: 0.9190\n"
     ]
    }
   ],
   "source": [
    "ep = epochs\n",
    "callback = tf.keras.callbacks.EarlyStopping(monitor='accuracy', \n",
    "                                                patience=ep)\n",
    "history = model_conv1D.fit(X_train_reshaped, y_train, epochs=ep,\n",
    "                    validation_data = (X_val_reshaped, y_val), \n",
    "                           verbose=1, callbacks=[callback])\n",
    "\n"
   ]
  },
  {
   "cell_type": "code",
   "execution_count": 26,
   "id": "55c8322a",
   "metadata": {},
   "outputs": [
    {
     "name": "stdout",
     "output_type": "stream",
     "text": [
      "Saved model_conv1D to disk:  ../informe1/v4_4_model_conv1D_e60_l13.h5\n",
      "[0.02886226400732994, 0.02886226400732994, 0.9263351559638977]\n",
      "Testing set Mean Abs Error: 28,86226400732994\n",
      "17/17 [==============================] - 1s 49ms/step\n"
     ]
    },
    {
     "data": {
      "image/png": "[encoded data removed]",
      "text/plain": [
       "<Figure size 720x432 with 1 Axes>"
      ]
     },
     "metadata": {
      "needs_background": "light"
     },
     "output_type": "display_data"
    },
    {
     "data": {
      "image/png": "[encoded data removed]",
      "text/plain": [
       "<Figure size 720x432 with 1 Axes>"
      ]
     },
     "metadata": {
      "needs_background": "light"
     },
     "output_type": "display_data"
    }
   ],
   "source": [
    "model_conv1D.save(\"../informe1/\"+prefijo+\"_model_conv1D_e\"+str(epochs)+\"_l\"+str(nlayers)+\".h5\")\n",
    "print(\"Saved model_conv1D to disk: \",\"../informe1/\"+prefijo+\"_model_conv1D_e\"+str(epochs)+\"_l\"+str(nlayers)+\".h5\")\n",
    "print(model_conv1D.evaluate(X_test_reshaped, y_test, verbose=0))\n",
    "[loss, mae,accuracy] = model_conv1D.evaluate(X_test_reshaped, y_test, verbose=0)\n",
    "print(\"Testing set Mean Abs Error: \"+str(mae * 1000).replace(\".\",\",\"))\n",
    "text_file.write(\"\\nTesting Mean Abs Error;\"+str(mae * 1000).replace(\".\",\",\"))\n",
    "\n",
    "pred =model_conv1D.predict(X_test_reshaped)\n",
    "\n",
    "y_pred_inv = scaler2.inverse_transform(y)\n",
    "\n",
    "\n",
    "train_loss = history.history['loss']\n",
    "val_loss = history.history['val_loss']\n",
    "train_acc = history.history['accuracy']\n",
    "val_acc = history.history['val_accuracy']\n",
    "\n",
    "def plot_train_val(A, B, n, xlabel, ylabel, title):\n",
    "    plt.figure(1, figsize=(10, 6))\n",
    "    plt.plot(range(n),A)\n",
    "    plt.plot(range(n),B)\n",
    "    plt.ylabel(xlabel)\n",
    "    plt.xlabel(ylabel)\n",
    "    plt.title(title)\n",
    "    plt.grid(True)\n",
    "    plt.legend(['Training', 'Validation'])\n",
    "    plt.savefig(\"../informe1/\"+prefijo+\"_loss_e\"+str(epochs)+\"_l\"+str(nlayers)+\".png\",dpi='figure') #save as png\n",
    "    #plt.savefig(\"../informe1/loss_e\"+str(epochs)+\"_l\"+str(nlayers)+\".jpg\") #save as png\n",
    "    plt.show()\n",
    "\n",
    "plot_train_val(train_loss, val_loss, ep, 'Loss', 'Number of epochs', 'Training loss vs Validation loss')\n",
    "plot_train_val(train_acc, val_acc, ep, 'Accuracy', 'Number of epochs', 'Training vs Validation Accuracy')\n",
    "\n",
    "\n"
   ]
  },
  {
   "cell_type": "code",
   "execution_count": 27,
   "id": "6931e5c7",
   "metadata": {},
   "outputs": [],
   "source": [
    "from sklearn.metrics import mean_absolute_error"
   ]
  },
  {
   "cell_type": "code",
   "execution_count": 28,
   "id": "c97e3512",
   "metadata": {},
   "outputs": [
    {
     "name": "stdout",
     "output_type": "stream",
     "text": [
      "(543,)\n",
      "(543,)\n"
     ]
    },
    {
     "data": {
      "image/png": "[encoded data removed]",
      "text/plain": [
       "<Figure size 432x288 with 1 Axes>"
      ]
     },
     "metadata": {
      "needs_background": "light"
     },
     "output_type": "display_data"
    }
   ],
   "source": [
    "a = scaler2.inverse_transform(pred)\n",
    "print(a[:,0].shape)\n",
    "\n",
    "\n",
    "b = scaler2.inverse_transform(y_test)\n",
    "print(b[:,0].shape)\n",
    "\n",
    "plt.figure()\n",
    "plt.hist(a[:,0], label=\"pred\")\n",
    "plt.hist(b[:,0], label=\"test\")\n",
    "\n",
    "plt.legend(loc=\"best\")\n",
    "plt.savefig(\"../informe1/\"+prefijo+\"_pre_vs_test_temperatura_e\"+str(epochs)+\"_l\"+str(nlayers)+\".png\",dpi='figure') #save as png\n",
    "plt.show()\n",
    "\n",
    "\n",
    "\n"
   ]
  },
  {
   "cell_type": "code",
   "execution_count": 29,
   "id": "1b53e51c",
   "metadata": {},
   "outputs": [
    {
     "data": {
      "text/plain": [
       "(543,)"
      ]
     },
     "execution_count": 29,
     "metadata": {},
     "output_type": "execute_result"
    }
   ],
   "source": [
    "pred[:,0].shape"
   ]
  },
  {
   "cell_type": "code",
   "execution_count": 30,
   "id": "2b014b7d",
   "metadata": {},
   "outputs": [
    {
     "data": {
      "image/png": "[encoded data removed]",
      "text/plain": [
       "<Figure size 432x288 with 1 Axes>"
      ]
     },
     "metadata": {
      "needs_background": "light"
     },
     "output_type": "display_data"
    }
   ],
   "source": [
    "plt.figure()\n",
    "plt.hist(a[:,1], label=\"pred\")\n",
    "plt.hist(b[:,1], label=\"test\")\n",
    "\n",
    "plt.legend(loc=\"best\")\n",
    "plt.savefig(\"../informe1/\"+prefijo+\"_pred_vs_test_logg_e\"+str(epochs)+\"_l\"+str(nlayers)+\".png\",dpi='figure') #save as png\n",
    "plt.show()\n",
    "\n"
   ]
  },
  {
   "cell_type": "code",
   "execution_count": 31,
   "id": "86bb68fb",
   "metadata": {},
   "outputs": [
    {
     "data": {
      "image/png": "[encoded data removed]",
      "text/plain": [
       "<Figure size 432x288 with 1 Axes>"
      ]
     },
     "metadata": {
      "needs_background": "light"
     },
     "output_type": "display_data"
    }
   ],
   "source": [
    "\n",
    "plt.figure()\n",
    "plt.hist(a[:,2], label=\"pred\")\n",
    "plt.hist(b[:,2], label=\"test\")\n",
    "\n",
    "plt.legend(loc=\"best\")\n",
    "plt.savefig(\"../informe1/\"+prefijo+\"_pred_vs_test_velocidad_e\"+str(epochs)+\"_l\"+str(nlayers)+\".png\",dpi='figure') #save as png\n",
    "plt.show()\n",
    "\n"
   ]
  },
  {
   "cell_type": "code",
   "execution_count": 32,
   "id": "4d6223e8",
   "metadata": {},
   "outputs": [
    {
     "data": {
      "image/png": "[encoded data removed]",
      "text/plain": [
       "<Figure size 432x288 with 1 Axes>"
      ]
     },
     "metadata": {
      "needs_background": "light"
     },
     "output_type": "display_data"
    }
   ],
   "source": [
    "plt.figure()\n",
    "plt.hist(pred[:,0], label=\"pred\")\n",
    "plt.hist(y_test[:,0], label=\"test\")\n",
    "\n",
    "plt.legend(loc=\"best\")\n",
    "plt.show()\n"
   ]
  },
  {
   "cell_type": "code",
   "execution_count": 33,
   "id": "2c5f36fb",
   "metadata": {},
   "outputs": [
    {
     "data": {
      "image/png": "[encoded data removed]",
      "text/plain": [
       "<Figure size 432x288 with 1 Axes>"
      ]
     },
     "metadata": {
      "needs_background": "light"
     },
     "output_type": "display_data"
    }
   ],
   "source": [
    "plt.figure()\n",
    "plt.hist(pred[:,1], label=\"pred\")\n",
    "plt.hist(y_test[:,1], label=\"test\")\n",
    "\n",
    "plt.legend(loc=\"best\")\n",
    "plt.show()"
   ]
  },
  {
   "cell_type": "code",
   "execution_count": 34,
   "id": "b9b947af",
   "metadata": {},
   "outputs": [
    {
     "data": {
      "image/png": "[encoded data removed]",
      "text/plain": [
       "<Figure size 432x288 with 1 Axes>"
      ]
     },
     "metadata": {
      "needs_background": "light"
     },
     "output_type": "display_data"
    }
   ],
   "source": [
    "plt.figure()\n",
    "plt.hist(y_test[:,2], label=\"test\")\n",
    "plt.hist(pred[:,2], label=\"pred\")\n",
    "plt.legend(loc=\"best\")\n",
    "plt.show()"
   ]
  },
  {
   "cell_type": "code",
   "execution_count": 35,
   "id": "4356cec3",
   "metadata": {},
   "outputs": [
    {
     "name": "stdout",
     "output_type": "stream",
     "text": [
      "Mean Absolute Error(nomalizado)= 0.15265236265835508\n",
      "Mean Absolute Error= 276.16795406479133\n",
      "Error relativo normalizado:  34.2% +/- 55.3%\n",
      "Error relativo desnormalizado:  4.89% +/- 7.07%\n"
     ]
    },
    {
     "data": {
      "text/plain": [
       "46"
      ]
     },
     "execution_count": 35,
     "metadata": {},
     "output_type": "execute_result"
    }
   ],
   "source": [
    "mn = mean_absolute_error(pred, y_test)\n",
    "print(\"Mean Absolute Error(nomalizado)=\",mn)\n",
    "text_file.write(\"\\nMean Absolute Error(nomalizado);\"+str(mn).replace(\".\",\",\"))\n",
    "#mean_absolute_error(a, b)\n",
    "m = mean_absolute_error(a, b)\n",
    "#tf.keras.metrics.max_error(a,b)\n",
    "#MeanRelativeError\n",
    "print(\"Mean Absolute Error=\",m)\n",
    "text_file.write(\"\\nMean Absolute Error;\"+str(m).replace(\".\",\",\"))\n",
    "rel_error = 2 * np.absolute(pred - y_test) / (np.absolute(pred) + np.absolute(y_test))\n",
    "print(\"Error relativo normalizado: \",f\"{round(rel_error.mean() * 100, 2)}% +/- {round(rel_error.std() * 100, 2)}%\")\n",
    "text_file.write(\"\\nError relativo normalizado;\"+f\"{round(rel_error.mean() * 100, 2)}% +/- {round(rel_error.std() * 100, 2)}%\".replace(\".\",\",\"))\n",
    "rel_error = 2 * np.absolute(a - b) / (np.absolute(a) + np.absolute(b))\n",
    "print(\"Error relativo desnormalizado: \",f\"{round(rel_error.mean() * 100, 2)}% +/- {round(rel_error.std() * 100, 2)}%\")\n",
    "\n",
    "text_file.write(\"\\nError relativo desnormalizado;\"+f\"{round(rel_error.mean() * 100, 2)}% +/- {round(rel_error.std() * 100, 2)}%\".replace(\".\",\",\"))\n"
   ]
  },
  {
   "cell_type": "code",
   "execution_count": 36,
   "id": "7b5d1b52",
   "metadata": {},
   "outputs": [],
   "source": [
    "e_teff = abs(y_test[:,0] - pred[:,0])\n",
    "e_logg = abs(y_test[:,1] - pred[:,1])\n",
    "e_vrot = abs(y_test[:,2] - pred[:,2])"
   ]
  },
  {
   "cell_type": "code",
   "execution_count": 37,
   "id": "e48f475d",
   "metadata": {},
   "outputs": [
    {
     "name": "stdout",
     "output_type": "stream",
     "text": [
      "0.11432246385681709\n",
      "Error relativo desnormalizado temperatura:  3.17% +/- 2.88%\n",
      "Error relativo desnormalizado logg:  9.76% +/- 10.11%\n",
      "Error relativo desnormalizado velocidad:  1.75% +/- 1.71%\n"
     ]
    },
    {
     "data": {
      "image/png": "[encoded data removed]",
      "text/plain": [
       "<Figure size 432x288 with 1 Axes>"
      ]
     },
     "metadata": {
      "needs_background": "light"
     },
     "output_type": "display_data"
    }
   ],
   "source": [
    "print(e_teff.mean())\n",
    "rel_error = 2 * np.absolute(a[:,0]- b[:,0]) / (np.absolute(a[:,0]) + np.absolute(b[:,0]))\n",
    "print(\"Error relativo desnormalizado temperatura: \",f\"{round(rel_error.mean() * 100, 2)}% +/- {round(rel_error.std() * 100, 2)}%\")\n",
    "text_file.write(\"\\nError relativo desnormalizado temperatura;\"+f\"{round(rel_error.mean() * 100, 2)}% +/- {round(rel_error.std() * 100, 2)}%\".replace(\".\",\",\"))\n",
    "rel_error = 2 * np.absolute(a[:,1]- b[:,1]) / (np.absolute(a[:,1]) + np.absolute(b[:,1]))\n",
    "print(\"Error relativo desnormalizado logg: \",f\"{round(rel_error.mean() * 100, 2)}% +/- {round(rel_error.std() * 100, 2)}%\")\n",
    "text_file.write(\"\\nError relativo desnormalizado logg;\"+f\"{round(rel_error.mean() * 100, 2)}% +/- {round(rel_error.std() * 100, 2)}%\".replace(\".\",\",\"))\n",
    "rel_error = 2 * np.absolute(a[:,2]- b[:,2]) / (np.absolute(a[:,2]) + np.absolute(b[:,2]))\n",
    "print(\"Error relativo desnormalizado velocidad: \",f\"{round(rel_error.mean() * 100, 2)}% +/- {round(rel_error.std() * 100, 2)}%\")\n",
    "text_file.write(\"\\nError relativo desnormalizado velocidad;\"+f\"{round(rel_error.mean() * 100, 2)}% +/- {round(rel_error.std() * 100, 2)}%\".replace(\".\",\",\"))\n",
    "\n",
    "\n",
    "\n",
    "plt.figure()\n",
    "plt.hist(e_teff)\n",
    "plt.show()"
   ]
  },
  {
   "cell_type": "code",
   "execution_count": 38,
   "id": "e286b17c",
   "metadata": {},
   "outputs": [
    {
     "name": "stdout",
     "output_type": "stream",
     "text": [
      "0.30101717242878445\n"
     ]
    },
    {
     "data": {
      "image/png": "[encoded data removed]",
      "text/plain": [
       "<Figure size 432x288 with 1 Axes>"
      ]
     },
     "metadata": {
      "needs_background": "light"
     },
     "output_type": "display_data"
    }
   ],
   "source": [
    "print(e_logg.mean())\n",
    "\n",
    "plt.figure()\n",
    "plt.hist(e_logg)\n",
    "plt.show()"
   ]
  },
  {
   "cell_type": "code",
   "execution_count": 39,
   "id": "85c1cccb",
   "metadata": {},
   "outputs": [
    {
     "name": "stdout",
     "output_type": "stream",
     "text": [
      "0.0426174516894638\n"
     ]
    },
    {
     "data": {
      "image/png": "[encoded data removed]",
      "text/plain": [
       "<Figure size 432x288 with 1 Axes>"
      ]
     },
     "metadata": {
      "needs_background": "light"
     },
     "output_type": "display_data"
    }
   ],
   "source": [
    "print(e_vrot.mean())\n",
    "\n",
    "plt.figure()\n",
    "plt.hist(e_vrot)\n",
    "plt.show()"
   ]
  },
  {
   "cell_type": "markdown",
   "id": "0c98884f",
   "metadata": {},
   "source": [
    "# BeSoS lines"
   ]
  },
  {
   "cell_type": "code",
   "execution_count": 40,
   "id": "2f053d2f",
   "metadata": {},
   "outputs": [
    {
     "name": "stderr",
     "output_type": "stream",
     "text": [
      "C:\\Users\\claud\\AppData\\Local\\Temp\\ipykernel_21432\\4139545611.py:7: UserWarning: Boolean Series key will be reindexed to match DataFrame index.\n",
      "  df2 = df[m1][m2]\n"
     ]
    },
    {
     "data": {
      "text/html": [
       "<div>\n",
       "<style scoped>\n",
       "    .dataframe tbody tr th:only-of-type {\n",
       "        vertical-align: middle;\n",
       "    }\n",
       "\n",
       "    .dataframe tbody tr th {\n",
       "        vertical-align: top;\n",
       "    }\n",
       "\n",
       "    .dataframe thead th {\n",
       "        text-align: right;\n",
       "    }\n",
       "</style>\n",
       "<table border=\"1\" class=\"dataframe\">\n",
       "  <thead>\n",
       "    <tr style=\"text-align: right;\">\n",
       "      <th></th>\n",
       "      <th>0</th>\n",
       "      <th>1</th>\n",
       "    </tr>\n",
       "  </thead>\n",
       "  <tbody>\n",
       "    <tr>\n",
       "      <th>2369</th>\n",
       "      <td>4460.017173</td>\n",
       "      <td>0.978701</td>\n",
       "    </tr>\n",
       "    <tr>\n",
       "      <th>2370</th>\n",
       "      <td>4460.106507</td>\n",
       "      <td>1.024083</td>\n",
       "    </tr>\n",
       "    <tr>\n",
       "      <th>2371</th>\n",
       "      <td>4460.195840</td>\n",
       "      <td>1.054551</td>\n",
       "    </tr>\n",
       "    <tr>\n",
       "      <th>2372</th>\n",
       "      <td>4460.285173</td>\n",
       "      <td>1.037242</td>\n",
       "    </tr>\n",
       "    <tr>\n",
       "      <th>2373</th>\n",
       "      <td>4460.374506</td>\n",
       "      <td>0.995095</td>\n",
       "    </tr>\n",
       "    <tr>\n",
       "      <th>...</th>\n",
       "      <td>...</td>\n",
       "      <td>...</td>\n",
       "    </tr>\n",
       "    <tr>\n",
       "      <th>2588</th>\n",
       "      <td>4479.581150</td>\n",
       "      <td>0.971979</td>\n",
       "    </tr>\n",
       "    <tr>\n",
       "      <th>2589</th>\n",
       "      <td>4479.670483</td>\n",
       "      <td>0.957869</td>\n",
       "    </tr>\n",
       "    <tr>\n",
       "      <th>2590</th>\n",
       "      <td>4479.759816</td>\n",
       "      <td>0.954362</td>\n",
       "    </tr>\n",
       "    <tr>\n",
       "      <th>2591</th>\n",
       "      <td>4479.849150</td>\n",
       "      <td>0.968432</td>\n",
       "    </tr>\n",
       "    <tr>\n",
       "      <th>2592</th>\n",
       "      <td>4479.938483</td>\n",
       "      <td>0.997343</td>\n",
       "    </tr>\n",
       "  </tbody>\n",
       "</table>\n",
       "<p>224 rows × 2 columns</p>\n",
       "</div>"
      ],
      "text/plain": [
       "                0         1\n",
       "2369  4460.017173  0.978701\n",
       "2370  4460.106507  1.024083\n",
       "2371  4460.195840  1.054551\n",
       "2372  4460.285173  1.037242\n",
       "2373  4460.374506  0.995095\n",
       "...           ...       ...\n",
       "2588  4479.581150  0.971979\n",
       "2589  4479.670483  0.957869\n",
       "2590  4479.759816  0.954362\n",
       "2591  4479.849150  0.968432\n",
       "2592  4479.938483  0.997343\n",
       "\n",
       "[224 rows x 2 columns]"
      ]
     },
     "execution_count": 40,
     "metadata": {},
     "output_type": "execute_result"
    }
   ],
   "source": [
    "df = pd.read_csv(\"../HD35411-BESOS/HD35411_2015-02-25_01-36-00_final_corr.txt\", sep=\"\\t\", header=None)\n",
    "#df = pd.read_csv(\"../filtered_wv_models/f_t15000g20v140.dat\", sep=\" \", header=None)\n",
    "\n",
    "m1 = df[0] >= 4460\n",
    "m2 = df[0] <= 4480\n",
    "\n",
    "df2 = df[m1][m2]\n",
    "\n",
    "df2"
   ]
  },
  {
   "cell_type": "code",
   "execution_count": 41,
   "id": "d21e6fc0",
   "metadata": {},
   "outputs": [
    {
     "data": {
      "image/png": "[encoded data removed]",
      "text/plain": [
       "<Figure size 576x432 with 1 Axes>"
      ]
     },
     "metadata": {
      "needs_background": "light"
     },
     "output_type": "display_data"
    }
   ],
   "source": [
    "plt.figure(figsize=(8,6))\n",
    "plt.plot(df2[0], df2[1], label=\"Línea observada\")\n",
    "#plt.plot(df4[0], df4[1], label=\"Modelo\")\n",
    "plt.grid()\n",
    "plt.legend(loc=\"best\")\n",
    "plt.show()"
   ]
  },
  {
   "cell_type": "code",
   "execution_count": 42,
   "id": "17ace05e",
   "metadata": {},
   "outputs": [],
   "source": [
    "n = 201  # for 2 random indices\n",
    "index = np.random.choice(df2[0].shape[0], n, replace=False) "
   ]
  },
  {
   "cell_type": "code",
   "execution_count": 43,
   "id": "76a3788f",
   "metadata": {},
   "outputs": [
    {
     "data": {
      "text/plain": [
       "array([  0,   1,   2,   3,   4,   5,   6,   7,   8,   9,  10,  12,  13,\n",
       "        14,  15,  16,  17,  18,  19,  20,  21,  22,  23,  24,  25,  26,\n",
       "        28,  29,  30,  31,  32,  33,  34,  35,  36,  38,  39,  40,  41,\n",
       "        42,  44,  45,  46,  47,  48,  49,  51,  52,  53,  54,  55,  56,\n",
       "        57,  58,  61,  62,  63,  64,  65,  66,  67,  68,  69,  70,  71,\n",
       "        72,  73,  74,  75,  76,  77,  78,  81,  82,  83,  84,  85,  86,\n",
       "        87,  89,  90,  91,  92,  93,  94,  96,  97,  98, 100, 101, 102,\n",
       "       103, 104, 105, 106, 107, 108, 109, 110, 112, 113, 114, 115, 116,\n",
       "       117, 118, 119, 121, 122, 123, 124, 125, 126, 127, 129, 130, 131,\n",
       "       132, 133, 134, 135, 136, 137, 139, 140, 141, 142, 143, 144, 145,\n",
       "       146, 147, 148, 149, 152, 153, 154, 155, 156, 157, 158, 159, 160,\n",
       "       162, 163, 165, 166, 167, 168, 169, 171, 172, 173, 174, 175, 176,\n",
       "       177, 178, 179, 180, 181, 182, 183, 184, 185, 186, 187, 188, 189,\n",
       "       190, 191, 192, 193, 194, 195, 196, 197, 198, 199, 200, 201, 202,\n",
       "       203, 204, 206, 207, 208, 210, 211, 212, 213, 214, 215, 216, 217,\n",
       "       218, 219, 220, 221, 222, 223])"
      ]
     },
     "execution_count": 43,
     "metadata": {},
     "output_type": "execute_result"
    }
   ],
   "source": [
    "index.sort()\n",
    "index"
   ]
  },
  {
   "cell_type": "code",
   "execution_count": 44,
   "id": "64d4c525",
   "metadata": {},
   "outputs": [],
   "source": [
    "obs_waves = df2[0].values[index]\n",
    "\n",
    "obs_flux = df2[1].values[index]\n",
    "\n",
    "from numpy import savetxt\n",
    "savetxt('../informe1/'+prefijo+'_obs_waves.csv', obs_waves, delimiter=';')\n",
    "savetxt('../informe1/'+prefijo+'_obs_flux.csv', obs_flux, delimiter=';')"
   ]
  },
  {
   "cell_type": "code",
   "execution_count": 45,
   "id": "09c8a8d4",
   "metadata": {},
   "outputs": [
    {
     "data": {
      "text/plain": [
       "(201,)"
      ]
     },
     "execution_count": 45,
     "metadata": {},
     "output_type": "execute_result"
    }
   ],
   "source": [
    "obs_flux.shape"
   ]
  },
  {
   "cell_type": "code",
   "execution_count": 46,
   "id": "cad962e9",
   "metadata": {},
   "outputs": [
    {
     "data": {
      "image/png": "[encoded data removed]",
      "text/plain": [
       "<Figure size 576x432 with 1 Axes>"
      ]
     },
     "metadata": {
      "needs_background": "light"
     },
     "output_type": "display_data"
    }
   ],
   "source": [
    "plt.figure(figsize=(8,6))\n",
    "plt.plot(obs_waves, obs_flux ,label=\"Línea observada\")\n",
    "plt.grid()\n",
    "plt.legend(loc=\"best\")\n",
    "plt.show()"
   ]
  },
  {
   "cell_type": "code",
   "execution_count": 47,
   "id": "2fc93f29",
   "metadata": {},
   "outputs": [],
   "source": [
    "#obs_x_reshaped = x_obs_inv.reshape((1, time_steps, input_dimension))\n",
    "#obs_x_reshaped = obs_x.reshape((1, time_steps, input_dimension))\n",
    "\n",
    "obs_flux_reshaped = obs_flux.reshape((1, time_steps, input_dimension))"
   ]
  },
  {
   "cell_type": "code",
   "execution_count": 48,
   "id": "42156890",
   "metadata": {},
   "outputs": [
    {
     "name": "stdout",
     "output_type": "stream",
     "text": [
      "1/1 [==============================] - 0s 18ms/step\n"
     ]
    }
   ],
   "source": [
    "\n",
    "pred_obs =model_conv1D.predict(obs_flux_reshaped)"
   ]
  },
  {
   "cell_type": "code",
   "execution_count": 49,
   "id": "c91ef2a6",
   "metadata": {},
   "outputs": [
    {
     "name": "stdout",
     "output_type": "stream",
     "text": [
      "t_eff: -0.7905329\n",
      "log g: -0.8306298\n",
      "v_rot: -3.0031798\n"
     ]
    },
    {
     "data": {
      "text/plain": [
       "17"
      ]
     },
     "execution_count": 49,
     "metadata": {},
     "output_type": "execute_result"
    }
   ],
   "source": [
    "# Acá los resultados es con los datos normalizados\n",
    "print(\"t_eff:\", pred_obs[0][0])\n",
    "print(\"log g:\", pred_obs[0][1])\n",
    "print(\"v_rot:\", pred_obs[0][2])\n",
    "text_file.write(\"\\nt_eff;\"+str(pred_obs[0][0]).replace(\".\",\",\"))\n",
    "text_file.write(\"\\nlog g;\"+str(pred_obs[0][1]).replace(\".\",\",\"))\n",
    "text_file.write(\"\\nv_rot;\"+str(pred_obs[0][2]).replace(\".\",\",\"))"
   ]
  },
  {
   "cell_type": "markdown",
   "id": "0d5c54de",
   "metadata": {},
   "source": [
    "## \"Desnormalización de la predicción\""
   ]
  },
  {
   "cell_type": "code",
   "execution_count": 50,
   "id": "16502e96",
   "metadata": {},
   "outputs": [],
   "source": [
    "pred_obs_inv = scaler2.inverse_transform(pred_obs)"
   ]
  },
  {
   "cell_type": "code",
   "execution_count": 51,
   "id": "0b03f608",
   "metadata": {},
   "outputs": [
    {
     "data": {
      "text/plain": [
       "array([[ 2.1299387e+04,  2.6693702e+00, -1.8612579e+01]], dtype=float32)"
      ]
     },
     "execution_count": 51,
     "metadata": {},
     "output_type": "execute_result"
    }
   ],
   "source": [
    "pred_obs_inv"
   ]
  },
  {
   "cell_type": "code",
   "execution_count": 52,
   "id": "03df7da4",
   "metadata": {},
   "outputs": [
    {
     "name": "stdout",
     "output_type": "stream",
     "text": [
      "21299.387\n",
      "2.6693702\n",
      "-18.61258\n"
     ]
    },
    {
     "data": {
      "text/plain": [
       "16"
      ]
     },
     "execution_count": 52,
     "metadata": {},
     "output_type": "execute_result"
    }
   ],
   "source": [
    "print(pred_obs_inv[0,0])\n",
    "print(pred_obs_inv[0,1])\n",
    "print(pred_obs_inv[0,2])\n",
    "text_file.write(\"\\nDesnormalizada; \")\n",
    "text_file.write(\"\\nt_eff;\"+str(pred_obs_inv[0][0]).replace(\".\",\",\"))\n",
    "text_file.write(\"\\nlog g;\"+str(pred_obs_inv[0][1]).replace(\".\",\",\"))\n",
    "text_file.write(\"\\nv_rot;\"+str(pred_obs_inv[0][2]).replace(\".\",\",\"))"
   ]
  },
  {
   "cell_type": "code",
   "execution_count": 53,
   "id": "6fcf3efc",
   "metadata": {},
   "outputs": [
    {
     "name": "stdout",
     "output_type": "stream",
     "text": [
      "1/1 [==============================] - 0s 26ms/step\n",
      "1/1 [==============================] - 0s 22ms/step\n",
      "1/1 [==============================] - 0s 23ms/step\n",
      "1/1 [==============================] - 0s 19ms/step\n",
      "1/1 [==============================] - 0s 21ms/step\n",
      "1/1 [==============================] - 0s 22ms/step\n",
      "1/1 [==============================] - 0s 19ms/step\n",
      "1/1 [==============================] - 0s 20ms/step\n",
      "1/1 [==============================] - 0s 18ms/step\n",
      "1/1 [==============================] - 0s 24ms/step\n",
      "1/1 [==============================] - 0s 18ms/step\n",
      "1/1 [==============================] - 0s 18ms/step\n",
      "1/1 [==============================] - 0s 18ms/step\n",
      "1/1 [==============================] - 0s 16ms/step\n",
      "1/1 [==============================] - 0s 19ms/step\n",
      "1/1 [==============================] - 0s 19ms/step\n",
      "1/1 [==============================] - 0s 22ms/step\n",
      "1/1 [==============================] - 0s 21ms/step\n",
      "1/1 [==============================] - 0s 24ms/step\n",
      "1/1 [==============================] - 0s 22ms/step\n",
      "1/1 [==============================] - 0s 23ms/step\n",
      "1/1 [==============================] - 0s 24ms/step\n",
      "1/1 [==============================] - 0s 21ms/step\n",
      "1/1 [==============================] - 0s 22ms/step\n",
      "1/1 [==============================] - 0s 21ms/step\n",
      "1/1 [==============================] - 0s 18ms/step\n",
      "1/1 [==============================] - 0s 18ms/step\n",
      "1/1 [==============================] - 0s 17ms/step\n",
      "1/1 [==============================] - 0s 17ms/step\n",
      "1/1 [==============================] - 0s 17ms/step\n",
      "1/1 [==============================] - 0s 17ms/step\n",
      "1/1 [==============================] - 0s 18ms/step\n",
      "1/1 [==============================] - 0s 19ms/step\n",
      "1/1 [==============================] - 0s 17ms/step\n",
      "1/1 [==============================] - 0s 18ms/step\n",
      "1/1 [==============================] - 0s 17ms/step\n",
      "1/1 [==============================] - 0s 22ms/step\n",
      "1/1 [==============================] - 0s 19ms/step\n",
      "1/1 [==============================] - 0s 17ms/step\n",
      "1/1 [==============================] - 0s 21ms/step\n",
      "1/1 [==============================] - 0s 17ms/step\n",
      "1/1 [==============================] - 0s 21ms/step\n",
      "1/1 [==============================] - 0s 17ms/step\n",
      "1/1 [==============================] - 0s 17ms/step\n",
      "1/1 [==============================] - 0s 24ms/step\n",
      "1/1 [==============================] - 0s 20ms/step\n",
      "1/1 [==============================] - 0s 20ms/step\n",
      "1/1 [==============================] - 0s 19ms/step\n",
      "1/1 [==============================] - 0s 17ms/step\n",
      "1/1 [==============================] - 0s 31ms/step\n",
      "1/1 [==============================] - 0s 18ms/step\n",
      "1/1 [==============================] - 0s 17ms/step\n",
      "1/1 [==============================] - 0s 21ms/step\n",
      "1/1 [==============================] - 0s 18ms/step\n",
      "1/1 [==============================] - 0s 21ms/step\n",
      "1/1 [==============================] - 0s 19ms/step\n",
      "1/1 [==============================] - 0s 25ms/step\n",
      "1/1 [==============================] - 0s 22ms/step\n",
      "1/1 [==============================] - 0s 30ms/step\n",
      "1/1 [==============================] - 0s 17ms/step\n",
      "1/1 [==============================] - 0s 18ms/step\n",
      "1/1 [==============================] - 0s 25ms/step\n",
      "1/1 [==============================] - 0s 21ms/step\n",
      "1/1 [==============================] - 0s 22ms/step\n",
      "1/1 [==============================] - 0s 18ms/step\n",
      "1/1 [==============================] - 0s 20ms/step\n",
      "1/1 [==============================] - 0s 45ms/step\n",
      "1/1 [==============================] - 0s 18ms/step\n",
      "1/1 [==============================] - 0s 21ms/step\n",
      "1/1 [==============================] - 0s 17ms/step\n",
      "1/1 [==============================] - 0s 31ms/step\n",
      "1/1 [==============================] - 0s 18ms/step\n",
      "1/1 [==============================] - 0s 18ms/step\n",
      "1/1 [==============================] - 0s 18ms/step\n",
      "1/1 [==============================] - 0s 28ms/step\n",
      "1/1 [==============================] - 0s 20ms/step\n",
      "1/1 [==============================] - 0s 20ms/step\n",
      "1/1 [==============================] - 0s 18ms/step\n",
      "1/1 [==============================] - 0s 20ms/step\n",
      "1/1 [==============================] - 0s 29ms/step\n",
      "1/1 [==============================] - 0s 27ms/step\n",
      "1/1 [==============================] - 0s 19ms/step\n",
      "1/1 [==============================] - 0s 21ms/step\n",
      "1/1 [==============================] - 0s 17ms/step\n",
      "1/1 [==============================] - 0s 18ms/step\n",
      "1/1 [==============================] - 0s 23ms/step\n",
      "1/1 [==============================] - 0s 21ms/step\n",
      "1/1 [==============================] - 0s 22ms/step\n",
      "1/1 [==============================] - 0s 37ms/step\n",
      "1/1 [==============================] - 0s 27ms/step\n",
      "1/1 [==============================] - 0s 17ms/step\n",
      "1/1 [==============================] - 0s 20ms/step\n",
      "1/1 [==============================] - 0s 18ms/step\n",
      "1/1 [==============================] - 0s 26ms/step\n",
      "1/1 [==============================] - 0s 20ms/step\n",
      "1/1 [==============================] - 0s 17ms/step\n",
      "1/1 [==============================] - 0s 18ms/step\n",
      "1/1 [==============================] - 0s 17ms/step\n",
      "1/1 [==============================] - 0s 18ms/step\n",
      "1/1 [==============================] - 0s 18ms/step\n",
      "1/1 [==============================] - 0s 17ms/step\n",
      "1/1 [==============================] - 0s 20ms/step\n",
      "1/1 [==============================] - 0s 18ms/step\n",
      "1/1 [==============================] - 0s 18ms/step\n",
      "1/1 [==============================] - 0s 18ms/step\n",
      "1/1 [==============================] - 0s 17ms/step\n",
      "1/1 [==============================] - 0s 19ms/step\n",
      "1/1 [==============================] - 0s 21ms/step\n",
      "1/1 [==============================] - 0s 18ms/step\n",
      "1/1 [==============================] - 0s 26ms/step\n",
      "1/1 [==============================] - 0s 23ms/step\n",
      "1/1 [==============================] - 0s 29ms/step\n",
      "1/1 [==============================] - 0s 18ms/step\n",
      "1/1 [==============================] - 0s 18ms/step\n",
      "1/1 [==============================] - 0s 30ms/step\n",
      "1/1 [==============================] - 0s 16ms/step\n",
      "1/1 [==============================] - 0s 18ms/step\n",
      "1/1 [==============================] - 0s 21ms/step\n",
      "1/1 [==============================] - 0s 35ms/step\n",
      "1/1 [==============================] - 0s 26ms/step\n",
      "1/1 [==============================] - 0s 25ms/step\n",
      "1/1 [==============================] - 0s 17ms/step\n",
      "1/1 [==============================] - 0s 20ms/step\n",
      "1/1 [==============================] - 0s 17ms/step\n",
      "1/1 [==============================] - 0s 18ms/step\n",
      "1/1 [==============================] - 0s 19ms/step\n",
      "1/1 [==============================] - 0s 18ms/step\n",
      "1/1 [==============================] - 0s 17ms/step\n",
      "1/1 [==============================] - 0s 19ms/step\n",
      "1/1 [==============================] - 0s 17ms/step\n",
      "1/1 [==============================] - 0s 18ms/step\n",
      "1/1 [==============================] - 0s 21ms/step\n",
      "1/1 [==============================] - 0s 20ms/step\n",
      "1/1 [==============================] - 0s 21ms/step\n",
      "1/1 [==============================] - 0s 17ms/step\n",
      "1/1 [==============================] - 0s 16ms/step\n",
      "1/1 [==============================] - 0s 19ms/step\n",
      "1/1 [==============================] - 0s 17ms/step\n",
      "1/1 [==============================] - 0s 20ms/step\n",
      "1/1 [==============================] - 0s 18ms/step\n",
      "1/1 [==============================] - 0s 19ms/step\n",
      "1/1 [==============================] - 0s 17ms/step\n",
      "1/1 [==============================] - 0s 38ms/step\n",
      "1/1 [==============================] - 0s 22ms/step\n",
      "1/1 [==============================] - 0s 27ms/step\n",
      "1/1 [==============================] - 0s 20ms/step\n",
      "1/1 [==============================] - 0s 30ms/step\n",
      "1/1 [==============================] - 0s 17ms/step\n",
      "1/1 [==============================] - 0s 16ms/step\n",
      "1/1 [==============================] - 0s 19ms/step\n",
      "1/1 [==============================] - 0s 17ms/step\n",
      "1/1 [==============================] - 0s 18ms/step\n",
      "1/1 [==============================] - 0s 18ms/step\n",
      "1/1 [==============================] - 0s 17ms/step\n",
      "1/1 [==============================] - 0s 17ms/step\n",
      "1/1 [==============================] - 0s 19ms/step\n",
      "1/1 [==============================] - 0s 23ms/step\n",
      "1/1 [==============================] - 0s 18ms/step\n",
      "1/1 [==============================] - 0s 21ms/step\n",
      "1/1 [==============================] - 0s 30ms/step\n",
      "1/1 [==============================] - 0s 20ms/step\n",
      "1/1 [==============================] - 0s 35ms/step\n",
      "1/1 [==============================] - 0s 17ms/step\n",
      "1/1 [==============================] - 0s 28ms/step\n",
      "1/1 [==============================] - 0s 24ms/step\n",
      "1/1 [==============================] - 0s 18ms/step\n",
      "1/1 [==============================] - 0s 23ms/step\n",
      "1/1 [==============================] - 0s 17ms/step\n",
      "1/1 [==============================] - 0s 20ms/step\n",
      "1/1 [==============================] - 0s 21ms/step\n",
      "1/1 [==============================] - 0s 36ms/step\n",
      "1/1 [==============================] - 0s 17ms/step\n",
      "1/1 [==============================] - 0s 17ms/step\n",
      "1/1 [==============================] - 0s 18ms/step\n",
      "1/1 [==============================] - 0s 17ms/step\n",
      "1/1 [==============================] - 0s 17ms/step\n",
      "1/1 [==============================] - 0s 18ms/step\n",
      "1/1 [==============================] - 0s 26ms/step\n",
      "1/1 [==============================] - 0s 20ms/step\n",
      "1/1 [==============================] - 0s 16ms/step\n",
      "1/1 [==============================] - 0s 22ms/step\n",
      "1/1 [==============================] - 0s 19ms/step\n",
      "1/1 [==============================] - 0s 39ms/step\n",
      "1/1 [==============================] - 0s 31ms/step\n",
      "1/1 [==============================] - 0s 25ms/step\n",
      "1/1 [==============================] - 0s 27ms/step\n",
      "1/1 [==============================] - 0s 22ms/step\n",
      "1/1 [==============================] - 0s 18ms/step\n",
      "1/1 [==============================] - 0s 18ms/step\n",
      "1/1 [==============================] - 0s 38ms/step\n",
      "1/1 [==============================] - 0s 20ms/step\n",
      "1/1 [==============================] - 0s 33ms/step\n",
      "1/1 [==============================] - 0s 31ms/step\n",
      "1/1 [==============================] - 0s 18ms/step\n",
      "1/1 [==============================] - 0s 17ms/step\n",
      "1/1 [==============================] - 0s 34ms/step\n",
      "1/1 [==============================] - 0s 18ms/step\n",
      "1/1 [==============================] - 0s 17ms/step\n",
      "1/1 [==============================] - 0s 17ms/step\n",
      "1/1 [==============================] - 0s 17ms/step\n",
      "1/1 [==============================] - 0s 20ms/step\n",
      "1/1 [==============================] - 0s 17ms/step\n",
      "1/1 [==============================] - 0s 17ms/step\n",
      "1/1 [==============================] - 0s 39ms/step\n",
      "1/1 [==============================] - 0s 23ms/step\n",
      "1/1 [==============================] - 0s 33ms/step\n",
      "1/1 [==============================] - 0s 18ms/step\n",
      "1/1 [==============================] - 0s 17ms/step\n",
      "1/1 [==============================] - 0s 20ms/step\n",
      "1/1 [==============================] - 0s 18ms/step\n",
      "1/1 [==============================] - 0s 17ms/step\n",
      "1/1 [==============================] - 0s 21ms/step\n",
      "1/1 [==============================] - 0s 18ms/step\n",
      "1/1 [==============================] - 0s 16ms/step\n",
      "1/1 [==============================] - 0s 18ms/step\n",
      "1/1 [==============================] - 0s 17ms/step\n",
      "1/1 [==============================] - 0s 23ms/step\n",
      "1/1 [==============================] - 0s 18ms/step\n",
      "1/1 [==============================] - 0s 19ms/step\n",
      "1/1 [==============================] - 0s 21ms/step\n",
      "1/1 [==============================] - 0s 17ms/step\n",
      "1/1 [==============================] - 0s 17ms/step\n",
      "1/1 [==============================] - 0s 24ms/step\n",
      "1/1 [==============================] - 0s 20ms/step\n",
      "1/1 [==============================] - 0s 18ms/step\n",
      "1/1 [==============================] - 0s 19ms/step\n",
      "1/1 [==============================] - 0s 18ms/step\n",
      "1/1 [==============================] - 0s 25ms/step\n",
      "1/1 [==============================] - 0s 18ms/step\n",
      "1/1 [==============================] - 0s 18ms/step\n",
      "1/1 [==============================] - 0s 21ms/step\n",
      "1/1 [==============================] - 0s 18ms/step\n",
      "1/1 [==============================] - 0s 18ms/step\n",
      "1/1 [==============================] - 0s 23ms/step\n",
      "1/1 [==============================] - 0s 19ms/step\n",
      "1/1 [==============================] - 0s 21ms/step\n",
      "1/1 [==============================] - 0s 22ms/step\n",
      "1/1 [==============================] - 0s 20ms/step\n",
      "1/1 [==============================] - 0s 20ms/step\n",
      "1/1 [==============================] - 0s 21ms/step\n",
      "1/1 [==============================] - 0s 21ms/step\n",
      "1/1 [==============================] - 0s 19ms/step\n",
      "1/1 [==============================] - 0s 22ms/step\n",
      "1/1 [==============================] - 0s 19ms/step\n",
      "1/1 [==============================] - 0s 23ms/step\n",
      "1/1 [==============================] - 0s 19ms/step\n",
      "1/1 [==============================] - 0s 19ms/step\n",
      "1/1 [==============================] - 0s 18ms/step\n",
      "1/1 [==============================] - 0s 21ms/step\n",
      "1/1 [==============================] - 0s 21ms/step\n",
      "1/1 [==============================] - 0s 20ms/step\n",
      "1/1 [==============================] - 0s 20ms/step\n",
      "1/1 [==============================] - 0s 21ms/step\n",
      "1/1 [==============================] - 0s 22ms/step\n",
      "1/1 [==============================] - 0s 19ms/step\n",
      "1/1 [==============================] - 0s 21ms/step\n",
      "1/1 [==============================] - 0s 19ms/step\n",
      "1/1 [==============================] - 0s 24ms/step\n",
      "1/1 [==============================] - 0s 22ms/step\n",
      "1/1 [==============================] - 0s 18ms/step\n",
      "1/1 [==============================] - 0s 19ms/step\n",
      "1/1 [==============================] - 0s 19ms/step\n",
      "1/1 [==============================] - 0s 18ms/step\n",
      "1/1 [==============================] - 0s 19ms/step\n",
      "1/1 [==============================] - 0s 18ms/step\n",
      "1/1 [==============================] - 0s 19ms/step\n",
      "1/1 [==============================] - 0s 18ms/step\n",
      "1/1 [==============================] - 0s 21ms/step\n",
      "1/1 [==============================] - 0s 31ms/step\n",
      "1/1 [==============================] - 0s 19ms/step\n",
      "1/1 [==============================] - 0s 21ms/step\n",
      "1/1 [==============================] - 0s 32ms/step\n",
      "1/1 [==============================] - 0s 20ms/step\n",
      "1/1 [==============================] - 0s 21ms/step\n",
      "1/1 [==============================] - 0s 21ms/step\n",
      "1/1 [==============================] - 0s 21ms/step\n",
      "1/1 [==============================] - 0s 20ms/step\n",
      "1/1 [==============================] - 0s 20ms/step\n",
      "1/1 [==============================] - 0s 24ms/step\n",
      "1/1 [==============================] - 0s 19ms/step\n",
      "1/1 [==============================] - 0s 19ms/step\n",
      "1/1 [==============================] - 0s 20ms/step\n",
      "1/1 [==============================] - 0s 24ms/step\n",
      "1/1 [==============================] - 0s 18ms/step\n",
      "1/1 [==============================] - 0s 18ms/step\n",
      "1/1 [==============================] - 0s 21ms/step\n",
      "1/1 [==============================] - 0s 18ms/step\n",
      "1/1 [==============================] - 0s 20ms/step\n",
      "1/1 [==============================] - 0s 21ms/step\n",
      "1/1 [==============================] - 0s 19ms/step\n",
      "1/1 [==============================] - 0s 22ms/step\n",
      "1/1 [==============================] - 0s 19ms/step\n",
      "1/1 [==============================] - 0s 23ms/step\n",
      "1/1 [==============================] - 0s 24ms/step\n",
      "1/1 [==============================] - 0s 30ms/step\n",
      "1/1 [==============================] - 0s 20ms/step\n",
      "1/1 [==============================] - 0s 23ms/step\n",
      "1/1 [==============================] - 0s 18ms/step\n",
      "1/1 [==============================] - 0s 21ms/step\n",
      "1/1 [==============================] - 0s 20ms/step\n",
      "1/1 [==============================] - 0s 26ms/step\n",
      "1/1 [==============================] - 0s 19ms/step\n",
      "1/1 [==============================] - 0s 26ms/step\n",
      "1/1 [==============================] - 0s 18ms/step\n",
      "1/1 [==============================] - 0s 18ms/step\n",
      "1/1 [==============================] - 0s 20ms/step\n",
      "1/1 [==============================] - 0s 23ms/step\n",
      "1/1 [==============================] - 0s 19ms/step\n",
      "1/1 [==============================] - 0s 20ms/step\n",
      "1/1 [==============================] - 0s 22ms/step\n",
      "1/1 [==============================] - 0s 20ms/step\n",
      "1/1 [==============================] - 0s 20ms/step\n",
      "1/1 [==============================] - 0s 27ms/step\n",
      "1/1 [==============================] - 0s 23ms/step\n"
     ]
    },
    {
     "name": "stdout",
     "output_type": "stream",
     "text": [
      "1/1 [==============================] - 0s 27ms/step\n",
      "1/1 [==============================] - 0s 19ms/step\n",
      "1/1 [==============================] - 0s 19ms/step\n",
      "1/1 [==============================] - 0s 20ms/step\n",
      "1/1 [==============================] - 0s 18ms/step\n",
      "1/1 [==============================] - 0s 18ms/step\n",
      "1/1 [==============================] - 0s 19ms/step\n",
      "1/1 [==============================] - 0s 19ms/step\n",
      "1/1 [==============================] - 0s 20ms/step\n",
      "1/1 [==============================] - 0s 19ms/step\n",
      "1/1 [==============================] - 0s 22ms/step\n",
      "1/1 [==============================] - 0s 20ms/step\n",
      "1/1 [==============================] - 0s 22ms/step\n",
      "1/1 [==============================] - 0s 34ms/step\n",
      "1/1 [==============================] - 0s 21ms/step\n",
      "1/1 [==============================] - 0s 25ms/step\n",
      "1/1 [==============================] - 0s 26ms/step\n",
      "1/1 [==============================] - 0s 25ms/step\n",
      "1/1 [==============================] - 0s 25ms/step\n",
      "1/1 [==============================] - 0s 25ms/step\n",
      "1/1 [==============================] - 0s 24ms/step\n",
      "1/1 [==============================] - 0s 19ms/step\n",
      "1/1 [==============================] - 0s 24ms/step\n",
      "1/1 [==============================] - 0s 19ms/step\n",
      "1/1 [==============================] - 0s 21ms/step\n",
      "1/1 [==============================] - 0s 32ms/step\n",
      "1/1 [==============================] - 0s 22ms/step\n",
      "1/1 [==============================] - 0s 19ms/step\n",
      "1/1 [==============================] - 0s 21ms/step\n",
      "1/1 [==============================] - 0s 20ms/step\n",
      "1/1 [==============================] - 0s 22ms/step\n",
      "1/1 [==============================] - 0s 22ms/step\n",
      "1/1 [==============================] - 0s 18ms/step\n",
      "1/1 [==============================] - 0s 17ms/step\n",
      "1/1 [==============================] - 0s 16ms/step\n",
      "1/1 [==============================] - 0s 19ms/step\n",
      "1/1 [==============================] - 0s 23ms/step\n",
      "1/1 [==============================] - 0s 21ms/step\n",
      "1/1 [==============================] - 0s 20ms/step\n",
      "1/1 [==============================] - 0s 22ms/step\n",
      "1/1 [==============================] - 0s 20ms/step\n",
      "1/1 [==============================] - 0s 21ms/step\n",
      "1/1 [==============================] - 0s 19ms/step\n",
      "1/1 [==============================] - 0s 20ms/step\n",
      "1/1 [==============================] - 0s 18ms/step\n",
      "1/1 [==============================] - 0s 17ms/step\n",
      "1/1 [==============================] - 0s 19ms/step\n",
      "1/1 [==============================] - 0s 19ms/step\n",
      "1/1 [==============================] - 0s 20ms/step\n",
      "1/1 [==============================] - 0s 18ms/step\n",
      "1/1 [==============================] - 0s 20ms/step\n",
      "1/1 [==============================] - 0s 21ms/step\n",
      "1/1 [==============================] - 0s 22ms/step\n",
      "1/1 [==============================] - 0s 28ms/step\n",
      "1/1 [==============================] - 0s 26ms/step\n",
      "1/1 [==============================] - 0s 26ms/step\n",
      "1/1 [==============================] - 0s 28ms/step\n",
      "1/1 [==============================] - 0s 25ms/step\n",
      "1/1 [==============================] - 0s 26ms/step\n",
      "1/1 [==============================] - 0s 20ms/step\n",
      "1/1 [==============================] - 0s 19ms/step\n",
      "1/1 [==============================] - 0s 20ms/step\n",
      "1/1 [==============================] - 0s 19ms/step\n",
      "1/1 [==============================] - 0s 18ms/step\n",
      "1/1 [==============================] - 0s 26ms/step\n",
      "1/1 [==============================] - 0s 30ms/step\n",
      "1/1 [==============================] - 0s 20ms/step\n",
      "1/1 [==============================] - 0s 21ms/step\n",
      "1/1 [==============================] - 0s 25ms/step\n",
      "1/1 [==============================] - 0s 19ms/step\n",
      "1/1 [==============================] - 0s 20ms/step\n",
      "1/1 [==============================] - 0s 32ms/step\n",
      "1/1 [==============================] - 0s 18ms/step\n",
      "1/1 [==============================] - 0s 35ms/step\n",
      "1/1 [==============================] - 0s 22ms/step\n",
      "1/1 [==============================] - 0s 28ms/step\n",
      "1/1 [==============================] - 0s 22ms/step\n",
      "1/1 [==============================] - 0s 18ms/step\n",
      "1/1 [==============================] - 0s 21ms/step\n",
      "1/1 [==============================] - 0s 21ms/step\n",
      "1/1 [==============================] - 0s 28ms/step\n",
      "1/1 [==============================] - 0s 18ms/step\n",
      "1/1 [==============================] - 0s 18ms/step\n",
      "1/1 [==============================] - 0s 20ms/step\n",
      "1/1 [==============================] - 0s 27ms/step\n",
      "1/1 [==============================] - 0s 29ms/step\n",
      "1/1 [==============================] - 0s 22ms/step\n",
      "1/1 [==============================] - 0s 21ms/step\n",
      "1/1 [==============================] - 0s 20ms/step\n",
      "1/1 [==============================] - 0s 20ms/step\n",
      "1/1 [==============================] - 0s 18ms/step\n",
      "1/1 [==============================] - 0s 20ms/step\n",
      "1/1 [==============================] - 0s 20ms/step\n",
      "1/1 [==============================] - 0s 21ms/step\n",
      "1/1 [==============================] - 0s 19ms/step\n",
      "1/1 [==============================] - 0s 19ms/step\n",
      "1/1 [==============================] - 0s 18ms/step\n",
      "1/1 [==============================] - 0s 17ms/step\n",
      "1/1 [==============================] - 0s 19ms/step\n",
      "1/1 [==============================] - 0s 19ms/step\n",
      "1/1 [==============================] - 0s 30ms/step\n",
      "1/1 [==============================] - 0s 20ms/step\n",
      "1/1 [==============================] - 0s 21ms/step\n",
      "1/1 [==============================] - 0s 21ms/step\n",
      "1/1 [==============================] - 0s 19ms/step\n",
      "1/1 [==============================] - 0s 20ms/step\n",
      "1/1 [==============================] - 0s 20ms/step\n",
      "1/1 [==============================] - 0s 19ms/step\n",
      "1/1 [==============================] - 0s 19ms/step\n",
      "1/1 [==============================] - 0s 23ms/step\n",
      "1/1 [==============================] - 0s 33ms/step\n",
      "1/1 [==============================] - 0s 18ms/step\n",
      "1/1 [==============================] - 0s 19ms/step\n",
      "1/1 [==============================] - 0s 22ms/step\n",
      "1/1 [==============================] - 0s 17ms/step\n",
      "1/1 [==============================] - 0s 18ms/step\n",
      "1/1 [==============================] - 0s 19ms/step\n",
      "1/1 [==============================] - 0s 22ms/step\n",
      "1/1 [==============================] - 0s 19ms/step\n",
      "1/1 [==============================] - 0s 24ms/step\n",
      "1/1 [==============================] - 0s 20ms/step\n",
      "1/1 [==============================] - 0s 19ms/step\n",
      "1/1 [==============================] - 0s 18ms/step\n",
      "1/1 [==============================] - 0s 20ms/step\n",
      "1/1 [==============================] - 0s 33ms/step\n",
      "1/1 [==============================] - 0s 19ms/step\n",
      "1/1 [==============================] - 0s 22ms/step\n",
      "1/1 [==============================] - 0s 21ms/step\n",
      "1/1 [==============================] - 0s 21ms/step\n",
      "1/1 [==============================] - 0s 17ms/step\n",
      "1/1 [==============================] - 0s 21ms/step\n",
      "1/1 [==============================] - 0s 24ms/step\n",
      "1/1 [==============================] - 0s 21ms/step\n",
      "1/1 [==============================] - 0s 25ms/step\n",
      "1/1 [==============================] - 0s 20ms/step\n",
      "1/1 [==============================] - 0s 22ms/step\n",
      "1/1 [==============================] - 0s 18ms/step\n",
      "1/1 [==============================] - 0s 20ms/step\n",
      "1/1 [==============================] - 0s 20ms/step\n",
      "1/1 [==============================] - 0s 20ms/step\n",
      "1/1 [==============================] - 0s 18ms/step\n",
      "1/1 [==============================] - 0s 19ms/step\n",
      "1/1 [==============================] - 0s 19ms/step\n",
      "1/1 [==============================] - 0s 25ms/step\n",
      "1/1 [==============================] - 0s 19ms/step\n",
      "1/1 [==============================] - 0s 20ms/step\n",
      "1/1 [==============================] - 0s 20ms/step\n",
      "1/1 [==============================] - 0s 18ms/step\n",
      "1/1 [==============================] - 0s 30ms/step\n",
      "1/1 [==============================] - 0s 19ms/step\n",
      "1/1 [==============================] - 0s 24ms/step\n",
      "1/1 [==============================] - 0s 28ms/step\n",
      "1/1 [==============================] - 0s 18ms/step\n",
      "1/1 [==============================] - 0s 19ms/step\n",
      "1/1 [==============================] - 0s 21ms/step\n",
      "1/1 [==============================] - 0s 21ms/step\n",
      "1/1 [==============================] - 0s 19ms/step\n",
      "1/1 [==============================] - 0s 19ms/step\n",
      "1/1 [==============================] - 0s 19ms/step\n",
      "1/1 [==============================] - 0s 19ms/step\n",
      "1/1 [==============================] - 0s 19ms/step\n",
      "1/1 [==============================] - 0s 27ms/step\n",
      "1/1 [==============================] - 0s 20ms/step\n",
      "1/1 [==============================] - 0s 20ms/step\n",
      "1/1 [==============================] - 0s 19ms/step\n",
      "1/1 [==============================] - 0s 20ms/step\n",
      "1/1 [==============================] - 0s 20ms/step\n",
      "1/1 [==============================] - 0s 25ms/step\n",
      "1/1 [==============================] - 0s 18ms/step\n",
      "1/1 [==============================] - 0s 20ms/step\n",
      "1/1 [==============================] - 0s 20ms/step\n",
      "1/1 [==============================] - 0s 18ms/step\n",
      "1/1 [==============================] - 0s 18ms/step\n",
      "1/1 [==============================] - 0s 24ms/step\n",
      "1/1 [==============================] - 0s 28ms/step\n",
      "1/1 [==============================] - 0s 20ms/step\n",
      "1/1 [==============================] - 0s 19ms/step\n",
      "1/1 [==============================] - 0s 20ms/step\n",
      "1/1 [==============================] - 0s 19ms/step\n",
      "1/1 [==============================] - 0s 21ms/step\n",
      "1/1 [==============================] - 0s 19ms/step\n",
      "1/1 [==============================] - 0s 18ms/step\n",
      "1/1 [==============================] - 0s 19ms/step\n",
      "1/1 [==============================] - 0s 40ms/step\n",
      "1/1 [==============================] - 0s 16ms/step\n",
      "1/1 [==============================] - 0s 20ms/step\n",
      "1/1 [==============================] - 0s 27ms/step\n",
      "1/1 [==============================] - 0s 20ms/step\n",
      "1/1 [==============================] - 0s 28ms/step\n",
      "1/1 [==============================] - 0s 20ms/step\n",
      "1/1 [==============================] - 0s 22ms/step\n",
      "1/1 [==============================] - 0s 35ms/step\n",
      "1/1 [==============================] - 0s 28ms/step\n",
      "1/1 [==============================] - 0s 17ms/step\n",
      "1/1 [==============================] - 0s 21ms/step\n",
      "1/1 [==============================] - 0s 19ms/step\n",
      "1/1 [==============================] - 0s 20ms/step\n",
      "1/1 [==============================] - 0s 18ms/step\n",
      "1/1 [==============================] - 0s 20ms/step\n",
      "1/1 [==============================] - 0s 21ms/step\n",
      "1/1 [==============================] - 0s 28ms/step\n",
      "1/1 [==============================] - 0s 19ms/step\n",
      "1/1 [==============================] - 0s 22ms/step\n",
      "1/1 [==============================] - 0s 19ms/step\n",
      "1/1 [==============================] - 0s 17ms/step\n",
      "1/1 [==============================] - 0s 18ms/step\n",
      "1/1 [==============================] - 0s 38ms/step\n",
      "1/1 [==============================] - 0s 47ms/step\n",
      "1/1 [==============================] - 0s 18ms/step\n",
      "1/1 [==============================] - 0s 17ms/step\n",
      "1/1 [==============================] - 0s 18ms/step\n",
      "1/1 [==============================] - 0s 21ms/step\n",
      "1/1 [==============================] - 0s 19ms/step\n",
      "1/1 [==============================] - 0s 19ms/step\n",
      "1/1 [==============================] - 0s 21ms/step\n",
      "1/1 [==============================] - 0s 27ms/step\n",
      "1/1 [==============================] - 0s 21ms/step\n",
      "1/1 [==============================] - 0s 24ms/step\n",
      "1/1 [==============================] - 0s 22ms/step\n",
      "1/1 [==============================] - 0s 21ms/step\n",
      "1/1 [==============================] - 0s 21ms/step\n",
      "1/1 [==============================] - 0s 19ms/step\n",
      "1/1 [==============================] - 0s 19ms/step\n",
      "1/1 [==============================] - 0s 18ms/step\n",
      "1/1 [==============================] - 0s 23ms/step\n",
      "1/1 [==============================] - 0s 20ms/step\n",
      "1/1 [==============================] - 0s 21ms/step\n",
      "1/1 [==============================] - 0s 18ms/step\n",
      "1/1 [==============================] - 0s 18ms/step\n",
      "1/1 [==============================] - 0s 19ms/step\n",
      "1/1 [==============================] - 0s 18ms/step\n",
      "1/1 [==============================] - 0s 17ms/step\n",
      "1/1 [==============================] - 0s 18ms/step\n",
      "1/1 [==============================] - 0s 19ms/step\n",
      "1/1 [==============================] - 0s 22ms/step\n",
      "1/1 [==============================] - 0s 24ms/step\n",
      "1/1 [==============================] - 0s 30ms/step\n",
      "1/1 [==============================] - 0s 18ms/step\n",
      "1/1 [==============================] - 0s 18ms/step\n",
      "1/1 [==============================] - 0s 19ms/step\n",
      "1/1 [==============================] - 0s 19ms/step\n",
      "1/1 [==============================] - 0s 18ms/step\n",
      "1/1 [==============================] - 0s 18ms/step\n",
      "1/1 [==============================] - 0s 19ms/step\n",
      "1/1 [==============================] - 0s 18ms/step\n",
      "1/1 [==============================] - 0s 29ms/step\n",
      "1/1 [==============================] - 0s 25ms/step\n",
      "1/1 [==============================] - 0s 21ms/step\n",
      "1/1 [==============================] - 0s 20ms/step\n",
      "1/1 [==============================] - 0s 20ms/step\n",
      "1/1 [==============================] - 0s 18ms/step\n",
      "1/1 [==============================] - 0s 19ms/step\n",
      "1/1 [==============================] - 0s 28ms/step\n",
      "1/1 [==============================] - 0s 29ms/step\n",
      "1/1 [==============================] - 0s 22ms/step\n",
      "1/1 [==============================] - 0s 20ms/step\n",
      "1/1 [==============================] - 0s 22ms/step\n",
      "1/1 [==============================] - 0s 19ms/step\n",
      "1/1 [==============================] - 0s 19ms/step\n",
      "1/1 [==============================] - 0s 20ms/step\n",
      "1/1 [==============================] - 0s 19ms/step\n",
      "1/1 [==============================] - 0s 20ms/step\n",
      "1/1 [==============================] - 0s 20ms/step\n",
      "1/1 [==============================] - 0s 20ms/step\n",
      "1/1 [==============================] - 0s 23ms/step\n",
      "1/1 [==============================] - 0s 19ms/step\n",
      "1/1 [==============================] - 0s 19ms/step\n",
      "1/1 [==============================] - 0s 26ms/step\n",
      "1/1 [==============================] - 0s 22ms/step\n",
      "1/1 [==============================] - 0s 21ms/step\n",
      "1/1 [==============================] - 0s 21ms/step\n",
      "1/1 [==============================] - 0s 27ms/step\n",
      "1/1 [==============================] - 0s 20ms/step\n",
      "1/1 [==============================] - 0s 20ms/step\n",
      "1/1 [==============================] - 0s 20ms/step\n",
      "1/1 [==============================] - 0s 20ms/step\n",
      "1/1 [==============================] - 0s 20ms/step\n",
      "1/1 [==============================] - 0s 19ms/step\n",
      "1/1 [==============================] - 0s 18ms/step\n",
      "1/1 [==============================] - 0s 21ms/step\n",
      "1/1 [==============================] - 0s 18ms/step\n",
      "1/1 [==============================] - 0s 17ms/step\n",
      "1/1 [==============================] - 0s 18ms/step\n",
      "1/1 [==============================] - 0s 21ms/step\n",
      "1/1 [==============================] - 0s 19ms/step\n",
      "1/1 [==============================] - 0s 29ms/step\n",
      "1/1 [==============================] - 0s 20ms/step\n",
      "1/1 [==============================] - 0s 24ms/step\n",
      "1/1 [==============================] - 0s 24ms/step\n",
      "1/1 [==============================] - 0s 27ms/step\n",
      "1/1 [==============================] - 0s 24ms/step\n",
      "1/1 [==============================] - 0s 21ms/step\n",
      "1/1 [==============================] - 0s 20ms/step\n",
      "1/1 [==============================] - 0s 20ms/step\n",
      "1/1 [==============================] - 0s 23ms/step\n",
      "1/1 [==============================] - 0s 21ms/step\n",
      "1/1 [==============================] - 0s 21ms/step\n",
      "1/1 [==============================] - 0s 20ms/step\n",
      "1/1 [==============================] - 0s 21ms/step\n",
      "1/1 [==============================] - 0s 20ms/step\n",
      "1/1 [==============================] - 0s 20ms/step\n",
      "1/1 [==============================] - 0s 21ms/step\n",
      "1/1 [==============================] - 0s 20ms/step\n",
      "1/1 [==============================] - 0s 27ms/step\n",
      "1/1 [==============================] - 0s 18ms/step\n",
      "1/1 [==============================] - 0s 24ms/step\n",
      "1/1 [==============================] - 0s 23ms/step\n",
      "1/1 [==============================] - 0s 20ms/step\n",
      "1/1 [==============================] - 0s 26ms/step\n",
      "1/1 [==============================] - 0s 22ms/step\n",
      "1/1 [==============================] - 0s 23ms/step\n",
      "1/1 [==============================] - 0s 27ms/step\n",
      "1/1 [==============================] - 0s 18ms/step\n",
      "1/1 [==============================] - 0s 29ms/step\n"
     ]
    },
    {
     "name": "stdout",
     "output_type": "stream",
     "text": [
      "1/1 [==============================] - 0s 30ms/step\n",
      "1/1 [==============================] - 0s 26ms/step\n",
      "1/1 [==============================] - 0s 30ms/step\n",
      "1/1 [==============================] - 0s 28ms/step\n",
      "1/1 [==============================] - 0s 22ms/step\n",
      "1/1 [==============================] - 0s 25ms/step\n",
      "1/1 [==============================] - 0s 21ms/step\n",
      "1/1 [==============================] - 0s 18ms/step\n",
      "1/1 [==============================] - 0s 23ms/step\n",
      "1/1 [==============================] - 0s 24ms/step\n",
      "1/1 [==============================] - 0s 23ms/step\n",
      "1/1 [==============================] - 0s 22ms/step\n",
      "1/1 [==============================] - 0s 20ms/step\n",
      "1/1 [==============================] - 0s 32ms/step\n",
      "1/1 [==============================] - 0s 24ms/step\n",
      "1/1 [==============================] - 0s 17ms/step\n",
      "1/1 [==============================] - 0s 24ms/step\n",
      "1/1 [==============================] - 0s 24ms/step\n",
      "1/1 [==============================] - 0s 25ms/step\n",
      "1/1 [==============================] - 0s 23ms/step\n",
      "1/1 [==============================] - 0s 23ms/step\n",
      "1/1 [==============================] - 0s 27ms/step\n",
      "1/1 [==============================] - 0s 25ms/step\n",
      "1/1 [==============================] - 0s 23ms/step\n",
      "1/1 [==============================] - 0s 17ms/step\n",
      "1/1 [==============================] - 0s 23ms/step\n",
      "1/1 [==============================] - 0s 35ms/step\n",
      "1/1 [==============================] - 0s 24ms/step\n",
      "1/1 [==============================] - 0s 21ms/step\n",
      "1/1 [==============================] - 0s 22ms/step\n",
      "1/1 [==============================] - 0s 23ms/step\n",
      "1/1 [==============================] - 0s 19ms/step\n",
      "1/1 [==============================] - 0s 22ms/step\n",
      "1/1 [==============================] - 0s 18ms/step\n",
      "1/1 [==============================] - 0s 18ms/step\n",
      "1/1 [==============================] - 0s 20ms/step\n",
      "1/1 [==============================] - 0s 18ms/step\n",
      "1/1 [==============================] - 0s 21ms/step\n",
      "1/1 [==============================] - 0s 30ms/step\n",
      "1/1 [==============================] - 0s 20ms/step\n",
      "1/1 [==============================] - 0s 17ms/step\n",
      "1/1 [==============================] - 0s 18ms/step\n",
      "1/1 [==============================] - 0s 18ms/step\n",
      "1/1 [==============================] - 0s 19ms/step\n",
      "1/1 [==============================] - 0s 20ms/step\n",
      "1/1 [==============================] - 0s 20ms/step\n",
      "1/1 [==============================] - 0s 19ms/step\n",
      "1/1 [==============================] - 0s 22ms/step\n",
      "1/1 [==============================] - 0s 20ms/step\n",
      "1/1 [==============================] - 0s 20ms/step\n",
      "1/1 [==============================] - 0s 18ms/step\n",
      "1/1 [==============================] - 0s 28ms/step\n",
      "1/1 [==============================] - 0s 20ms/step\n",
      "1/1 [==============================] - 0s 19ms/step\n",
      "1/1 [==============================] - 0s 32ms/step\n",
      "1/1 [==============================] - 0s 25ms/step\n",
      "1/1 [==============================] - 0s 22ms/step\n",
      "1/1 [==============================] - 0s 22ms/step\n",
      "1/1 [==============================] - 0s 21ms/step\n",
      "1/1 [==============================] - 0s 20ms/step\n",
      "1/1 [==============================] - 0s 19ms/step\n",
      "1/1 [==============================] - 0s 18ms/step\n",
      "1/1 [==============================] - 0s 19ms/step\n",
      "1/1 [==============================] - 0s 18ms/step\n",
      "1/1 [==============================] - 0s 19ms/step\n",
      "1/1 [==============================] - 0s 19ms/step\n",
      "1/1 [==============================] - 0s 20ms/step\n",
      "1/1 [==============================] - 0s 21ms/step\n",
      "1/1 [==============================] - 0s 23ms/step\n",
      "1/1 [==============================] - 0s 19ms/step\n",
      "1/1 [==============================] - 0s 21ms/step\n",
      "1/1 [==============================] - 0s 21ms/step\n",
      "1/1 [==============================] - 0s 19ms/step\n",
      "1/1 [==============================] - 0s 20ms/step\n",
      "1/1 [==============================] - 0s 35ms/step\n",
      "1/1 [==============================] - 0s 18ms/step\n",
      "1/1 [==============================] - 0s 18ms/step\n",
      "1/1 [==============================] - 0s 21ms/step\n",
      "1/1 [==============================] - 0s 36ms/step\n",
      "1/1 [==============================] - 0s 21ms/step\n",
      "1/1 [==============================] - 0s 21ms/step\n",
      "1/1 [==============================] - 0s 23ms/step\n",
      "1/1 [==============================] - 0s 20ms/step\n",
      "1/1 [==============================] - 0s 18ms/step\n",
      "1/1 [==============================] - 0s 20ms/step\n",
      "1/1 [==============================] - 0s 19ms/step\n",
      "1/1 [==============================] - 0s 18ms/step\n",
      "1/1 [==============================] - 0s 18ms/step\n",
      "1/1 [==============================] - 0s 22ms/step\n",
      "1/1 [==============================] - 0s 21ms/step\n",
      "1/1 [==============================] - 0s 20ms/step\n",
      "1/1 [==============================] - 0s 21ms/step\n",
      "1/1 [==============================] - 0s 23ms/step\n",
      "1/1 [==============================] - 0s 41ms/step\n",
      "1/1 [==============================] - 0s 17ms/step\n",
      "1/1 [==============================] - 0s 19ms/step\n",
      "1/1 [==============================] - 0s 27ms/step\n",
      "1/1 [==============================] - 0s 18ms/step\n",
      "1/1 [==============================] - 0s 22ms/step\n",
      "1/1 [==============================] - 0s 22ms/step\n",
      "1/1 [==============================] - 0s 29ms/step\n",
      "1/1 [==============================] - 0s 32ms/step\n",
      "1/1 [==============================] - 0s 27ms/step\n",
      "1/1 [==============================] - 0s 18ms/step\n",
      "1/1 [==============================] - 0s 27ms/step\n",
      "1/1 [==============================] - 0s 24ms/step\n",
      "1/1 [==============================] - 0s 20ms/step\n",
      "1/1 [==============================] - 0s 20ms/step\n",
      "1/1 [==============================] - 0s 19ms/step\n",
      "1/1 [==============================] - 0s 20ms/step\n",
      "1/1 [==============================] - 0s 20ms/step\n",
      "1/1 [==============================] - 0s 21ms/step\n",
      "1/1 [==============================] - 0s 20ms/step\n",
      "1/1 [==============================] - 0s 36ms/step\n",
      "1/1 [==============================] - 0s 23ms/step\n",
      "1/1 [==============================] - 0s 21ms/step\n",
      "1/1 [==============================] - 0s 19ms/step\n",
      "1/1 [==============================] - 0s 24ms/step\n",
      "1/1 [==============================] - 0s 21ms/step\n",
      "1/1 [==============================] - 0s 18ms/step\n",
      "1/1 [==============================] - 0s 18ms/step\n",
      "1/1 [==============================] - 0s 20ms/step\n",
      "1/1 [==============================] - 0s 18ms/step\n",
      "1/1 [==============================] - 0s 19ms/step\n",
      "1/1 [==============================] - 0s 19ms/step\n",
      "1/1 [==============================] - 0s 31ms/step\n",
      "1/1 [==============================] - 0s 33ms/step\n",
      "1/1 [==============================] - 0s 30ms/step\n",
      "1/1 [==============================] - 0s 18ms/step\n",
      "1/1 [==============================] - 0s 21ms/step\n",
      "1/1 [==============================] - 0s 22ms/step\n",
      "1/1 [==============================] - 0s 21ms/step\n",
      "1/1 [==============================] - 0s 22ms/step\n",
      "1/1 [==============================] - 0s 30ms/step\n",
      "1/1 [==============================] - 0s 20ms/step\n",
      "1/1 [==============================] - 0s 20ms/step\n",
      "1/1 [==============================] - 0s 18ms/step\n",
      "1/1 [==============================] - 0s 19ms/step\n",
      "1/1 [==============================] - 0s 20ms/step\n",
      "1/1 [==============================] - 0s 19ms/step\n",
      "1/1 [==============================] - 0s 28ms/step\n",
      "1/1 [==============================] - 0s 20ms/step\n",
      "1/1 [==============================] - 0s 20ms/step\n",
      "1/1 [==============================] - 0s 21ms/step\n",
      "1/1 [==============================] - 0s 18ms/step\n",
      "1/1 [==============================] - 0s 18ms/step\n",
      "1/1 [==============================] - 0s 19ms/step\n",
      "1/1 [==============================] - 0s 22ms/step\n",
      "1/1 [==============================] - 0s 17ms/step\n",
      "1/1 [==============================] - 0s 19ms/step\n",
      "1/1 [==============================] - 0s 19ms/step\n",
      "1/1 [==============================] - 0s 19ms/step\n",
      "1/1 [==============================] - 0s 33ms/step\n",
      "1/1 [==============================] - 0s 19ms/step\n",
      "1/1 [==============================] - 0s 18ms/step\n",
      "1/1 [==============================] - 0s 21ms/step\n",
      "1/1 [==============================] - 0s 21ms/step\n",
      "1/1 [==============================] - 0s 20ms/step\n",
      "1/1 [==============================] - 0s 22ms/step\n",
      "1/1 [==============================] - 0s 23ms/step\n",
      "1/1 [==============================] - 0s 19ms/step\n",
      "1/1 [==============================] - 0s 20ms/step\n",
      "1/1 [==============================] - 0s 24ms/step\n",
      "1/1 [==============================] - 0s 19ms/step\n",
      "1/1 [==============================] - 0s 23ms/step\n",
      "1/1 [==============================] - 0s 18ms/step\n",
      "1/1 [==============================] - 0s 21ms/step\n",
      "1/1 [==============================] - 0s 33ms/step\n",
      "1/1 [==============================] - 0s 26ms/step\n",
      "1/1 [==============================] - 0s 19ms/step\n",
      "1/1 [==============================] - 0s 19ms/step\n",
      "1/1 [==============================] - 0s 35ms/step\n",
      "1/1 [==============================] - 0s 19ms/step\n",
      "1/1 [==============================] - 0s 25ms/step\n",
      "1/1 [==============================] - 0s 24ms/step\n",
      "1/1 [==============================] - 0s 18ms/step\n",
      "1/1 [==============================] - 0s 21ms/step\n",
      "1/1 [==============================] - 0s 20ms/step\n",
      "1/1 [==============================] - 0s 20ms/step\n",
      "1/1 [==============================] - 0s 22ms/step\n",
      "1/1 [==============================] - 0s 22ms/step\n",
      "1/1 [==============================] - 0s 27ms/step\n",
      "1/1 [==============================] - 0s 21ms/step\n",
      "1/1 [==============================] - 0s 21ms/step\n",
      "1/1 [==============================] - 0s 18ms/step\n",
      "1/1 [==============================] - 0s 23ms/step\n",
      "1/1 [==============================] - 0s 20ms/step\n",
      "1/1 [==============================] - 0s 31ms/step\n",
      "1/1 [==============================] - 0s 21ms/step\n",
      "1/1 [==============================] - 0s 20ms/step\n",
      "1/1 [==============================] - 0s 20ms/step\n",
      "1/1 [==============================] - 0s 19ms/step\n",
      "1/1 [==============================] - 0s 18ms/step\n",
      "1/1 [==============================] - 0s 21ms/step\n",
      "1/1 [==============================] - 0s 19ms/step\n",
      "1/1 [==============================] - 0s 26ms/step\n",
      "1/1 [==============================] - 0s 21ms/step\n",
      "1/1 [==============================] - 0s 20ms/step\n",
      "1/1 [==============================] - 0s 18ms/step\n",
      "1/1 [==============================] - 0s 19ms/step\n",
      "1/1 [==============================] - 0s 19ms/step\n",
      "1/1 [==============================] - 0s 19ms/step\n",
      "1/1 [==============================] - 0s 18ms/step\n",
      "1/1 [==============================] - 0s 17ms/step\n",
      "1/1 [==============================] - 0s 17ms/step\n",
      "1/1 [==============================] - 0s 18ms/step\n",
      "1/1 [==============================] - 0s 21ms/step\n",
      "1/1 [==============================] - 0s 23ms/step\n",
      "1/1 [==============================] - 0s 20ms/step\n",
      "1/1 [==============================] - 0s 21ms/step\n",
      "1/1 [==============================] - 0s 20ms/step\n",
      "1/1 [==============================] - 0s 22ms/step\n",
      "1/1 [==============================] - 0s 20ms/step\n",
      "1/1 [==============================] - 0s 26ms/step\n",
      "1/1 [==============================] - 0s 22ms/step\n",
      "1/1 [==============================] - 0s 21ms/step\n",
      "1/1 [==============================] - 0s 27ms/step\n",
      "1/1 [==============================] - 0s 22ms/step\n",
      "1/1 [==============================] - 0s 21ms/step\n",
      "1/1 [==============================] - 0s 19ms/step\n",
      "1/1 [==============================] - 0s 20ms/step\n",
      "1/1 [==============================] - 0s 21ms/step\n",
      "1/1 [==============================] - 0s 19ms/step\n",
      "1/1 [==============================] - 0s 18ms/step\n",
      "1/1 [==============================] - 0s 19ms/step\n",
      "1/1 [==============================] - 0s 19ms/step\n",
      "1/1 [==============================] - 0s 21ms/step\n",
      "1/1 [==============================] - 0s 36ms/step\n",
      "1/1 [==============================] - 0s 21ms/step\n",
      "1/1 [==============================] - 0s 19ms/step\n",
      "1/1 [==============================] - 0s 19ms/step\n",
      "1/1 [==============================] - 0s 33ms/step\n",
      "1/1 [==============================] - 0s 33ms/step\n",
      "1/1 [==============================] - 0s 21ms/step\n",
      "1/1 [==============================] - 0s 22ms/step\n",
      "1/1 [==============================] - 0s 24ms/step\n",
      "1/1 [==============================] - 0s 21ms/step\n",
      "1/1 [==============================] - 0s 21ms/step\n",
      "1/1 [==============================] - 0s 19ms/step\n",
      "1/1 [==============================] - 0s 19ms/step\n",
      "1/1 [==============================] - 0s 29ms/step\n",
      "1/1 [==============================] - 0s 20ms/step\n",
      "1/1 [==============================] - 0s 20ms/step\n",
      "1/1 [==============================] - 0s 18ms/step\n",
      "1/1 [==============================] - 0s 18ms/step\n",
      "1/1 [==============================] - 0s 19ms/step\n",
      "1/1 [==============================] - 0s 19ms/step\n",
      "1/1 [==============================] - 0s 18ms/step\n",
      "1/1 [==============================] - 0s 22ms/step\n",
      "1/1 [==============================] - 0s 19ms/step\n",
      "1/1 [==============================] - 0s 17ms/step\n",
      "1/1 [==============================] - 0s 19ms/step\n",
      "1/1 [==============================] - 0s 21ms/step\n",
      "1/1 [==============================] - 0s 21ms/step\n",
      "1/1 [==============================] - 0s 21ms/step\n",
      "1/1 [==============================] - 0s 19ms/step\n",
      "1/1 [==============================] - 0s 24ms/step\n",
      "1/1 [==============================] - 0s 20ms/step\n",
      "1/1 [==============================] - 0s 20ms/step\n",
      "1/1 [==============================] - 0s 19ms/step\n",
      "1/1 [==============================] - 0s 19ms/step\n",
      "1/1 [==============================] - 0s 18ms/step\n",
      "1/1 [==============================] - 0s 18ms/step\n",
      "1/1 [==============================] - 0s 20ms/step\n",
      "1/1 [==============================] - 0s 27ms/step\n",
      "1/1 [==============================] - 0s 19ms/step\n",
      "1/1 [==============================] - 0s 20ms/step\n",
      "1/1 [==============================] - 0s 20ms/step\n",
      "1/1 [==============================] - 0s 22ms/step\n",
      "1/1 [==============================] - 0s 19ms/step\n",
      "1/1 [==============================] - 0s 21ms/step\n",
      "1/1 [==============================] - 0s 20ms/step\n",
      "1/1 [==============================] - 0s 19ms/step\n",
      "1/1 [==============================] - 0s 22ms/step\n",
      "1/1 [==============================] - 0s 18ms/step\n",
      "1/1 [==============================] - 0s 17ms/step\n",
      "1/1 [==============================] - 0s 21ms/step\n",
      "1/1 [==============================] - 0s 20ms/step\n",
      "1/1 [==============================] - 0s 21ms/step\n",
      "1/1 [==============================] - 0s 20ms/step\n",
      "1/1 [==============================] - 0s 20ms/step\n",
      "1/1 [==============================] - 0s 21ms/step\n",
      "1/1 [==============================] - 0s 19ms/step\n",
      "1/1 [==============================] - 0s 20ms/step\n",
      "1/1 [==============================] - 0s 18ms/step\n",
      "1/1 [==============================] - 0s 18ms/step\n",
      "1/1 [==============================] - 0s 20ms/step\n",
      "1/1 [==============================] - 0s 20ms/step\n",
      "1/1 [==============================] - 0s 21ms/step\n",
      "1/1 [==============================] - 0s 33ms/step\n",
      "1/1 [==============================] - 0s 20ms/step\n",
      "1/1 [==============================] - 0s 18ms/step\n",
      "1/1 [==============================] - 0s 18ms/step\n",
      "1/1 [==============================] - 0s 22ms/step\n",
      "1/1 [==============================] - 0s 19ms/step\n",
      "1/1 [==============================] - 0s 20ms/step\n",
      "1/1 [==============================] - 0s 18ms/step\n",
      "1/1 [==============================] - 0s 19ms/step\n",
      "1/1 [==============================] - 0s 20ms/step\n",
      "1/1 [==============================] - 0s 18ms/step\n",
      "1/1 [==============================] - 0s 20ms/step\n",
      "1/1 [==============================] - 0s 21ms/step\n",
      "1/1 [==============================] - 0s 24ms/step\n",
      "1/1 [==============================] - 0s 19ms/step\n",
      "1/1 [==============================] - 0s 21ms/step\n",
      "1/1 [==============================] - 0s 20ms/step\n",
      "1/1 [==============================] - 0s 27ms/step\n",
      "1/1 [==============================] - 0s 25ms/step\n",
      "1/1 [==============================] - 0s 26ms/step\n",
      "1/1 [==============================] - 0s 21ms/step\n",
      "1/1 [==============================] - 0s 20ms/step\n",
      "1/1 [==============================] - 0s 21ms/step\n",
      "1/1 [==============================] - 0s 20ms/step\n",
      "1/1 [==============================] - 0s 20ms/step\n"
     ]
    },
    {
     "name": "stdout",
     "output_type": "stream",
     "text": [
      "1/1 [==============================] - 0s 20ms/step\n",
      "1/1 [==============================] - 0s 28ms/step\n",
      "1/1 [==============================] - 0s 21ms/step\n",
      "1/1 [==============================] - 0s 21ms/step\n",
      "1/1 [==============================] - 0s 20ms/step\n",
      "1/1 [==============================] - 0s 20ms/step\n",
      "1/1 [==============================] - 0s 21ms/step\n",
      "1/1 [==============================] - 0s 22ms/step\n",
      "1/1 [==============================] - 0s 22ms/step\n",
      "1/1 [==============================] - 0s 19ms/step\n",
      "1/1 [==============================] - 0s 18ms/step\n",
      "1/1 [==============================] - 0s 19ms/step\n",
      "1/1 [==============================] - 0s 20ms/step\n",
      "1/1 [==============================] - 0s 22ms/step\n",
      "1/1 [==============================] - 0s 26ms/step\n",
      "1/1 [==============================] - 0s 19ms/step\n",
      "1/1 [==============================] - 0s 32ms/step\n",
      "1/1 [==============================] - 0s 18ms/step\n",
      "1/1 [==============================] - 0s 17ms/step\n",
      "1/1 [==============================] - 0s 22ms/step\n",
      "1/1 [==============================] - 0s 18ms/step\n",
      "1/1 [==============================] - 0s 22ms/step\n",
      "1/1 [==============================] - 0s 23ms/step\n",
      "1/1 [==============================] - 0s 21ms/step\n",
      "1/1 [==============================] - 0s 18ms/step\n",
      "1/1 [==============================] - 0s 23ms/step\n",
      "1/1 [==============================] - 0s 21ms/step\n",
      "1/1 [==============================] - 0s 18ms/step\n",
      "1/1 [==============================] - 0s 18ms/step\n",
      "1/1 [==============================] - 0s 20ms/step\n",
      "1/1 [==============================] - 0s 21ms/step\n",
      "1/1 [==============================] - 0s 21ms/step\n",
      "1/1 [==============================] - 0s 23ms/step\n",
      "1/1 [==============================] - 0s 21ms/step\n",
      "1/1 [==============================] - 0s 21ms/step\n",
      "1/1 [==============================] - 0s 21ms/step\n",
      "1/1 [==============================] - 0s 18ms/step\n",
      "1/1 [==============================] - 0s 20ms/step\n",
      "1/1 [==============================] - 0s 20ms/step\n",
      "1/1 [==============================] - 0s 20ms/step\n",
      "1/1 [==============================] - 0s 34ms/step\n",
      "1/1 [==============================] - 0s 21ms/step\n",
      "1/1 [==============================] - 0s 22ms/step\n",
      "1/1 [==============================] - 0s 22ms/step\n",
      "1/1 [==============================] - 0s 21ms/step\n",
      "1/1 [==============================] - 0s 22ms/step\n",
      "1/1 [==============================] - 0s 22ms/step\n",
      "1/1 [==============================] - 0s 20ms/step\n",
      "1/1 [==============================] - 0s 18ms/step\n",
      "1/1 [==============================] - 0s 23ms/step\n",
      "1/1 [==============================] - 0s 18ms/step\n",
      "1/1 [==============================] - 0s 21ms/step\n",
      "1/1 [==============================] - 0s 22ms/step\n",
      "1/1 [==============================] - 0s 19ms/step\n",
      "1/1 [==============================] - 0s 17ms/step\n",
      "1/1 [==============================] - 0s 18ms/step\n",
      "1/1 [==============================] - 0s 24ms/step\n",
      "1/1 [==============================] - 0s 18ms/step\n"
     ]
    }
   ],
   "source": [
    "import warnings\n",
    "warnings.simplefilter(\"ignore\")\n",
    "ncorridas=1000\n",
    "res0=[0 for i in range(ncorridas)]\n",
    "res1=[0 for i in range(ncorridas)]\n",
    "res2=[0 for i in range(ncorridas)]\n",
    "for i in range(ncorridas):\n",
    "    \n",
    "    df = pd.read_csv(\"../HD35411-BESOS/HD35411_2015-02-25_01-36-00_final_corr.txt\", sep=\"\\t\", header=None)\n",
    "    m1 = df[0] >= 4460\n",
    "    m2 = df[0] <= 4480\n",
    "    df2 = df[m1][m2]\n",
    "    \n",
    "   # df2=df_in\n",
    "    n = 201  # for 2 random indices\n",
    "    index = np.random.choice(df2[0].shape[0], n, replace=False) \n",
    "    index.sort()\n",
    "    obs_waves = df2[0].values[index]\n",
    "    #print(\"datos normalizados 1 \",i)\n",
    "    obs_flux = df2[1].values[index]\n",
    "    obs_flux.shape\n",
    "    obs_flux_reshaped = obs_flux.reshape((1, time_steps, input_dimension))\n",
    "    pred_obs =model_conv1D.predict(obs_flux_reshaped)\n",
    "    #print(\"datos normalizados \",i)\n",
    "    # Acá los resultados es con los datos normalizados\n",
    "    #print(\"t_eff:\", pred_obs[0][0])\n",
    "    #print(\"log g:\", pred_obs[0][1])\n",
    "    #print(\"v_rot:\", pred_obs[0][2])\n",
    "    pred_obs_inv = scaler2.inverse_transform(pred_obs)\n",
    "    #pred_obs_inv\n",
    "    #print(\"datos normalizados \",i)\n",
    "    # Acá los resultados es con los datos des-normalizados\n",
    "    #print(\"t_eff:\",pred_obs_inv[0,0])\n",
    "    #print(\"log g:\",pred_obs_inv[0,1])\n",
    "    #print(\"v_rot:\",pred_obs_inv[0,2])\n",
    "    res0[i]=pred_obs_inv[0,0]\n",
    "    res1[i]=pred_obs_inv[0,1]\n",
    "    res2[i]=pred_obs_inv[0,2]\n",
    "    \n",
    "warnings.resetwarnings()"
   ]
  },
  {
   "cell_type": "code",
   "execution_count": 54,
   "id": "d5228685",
   "metadata": {},
   "outputs": [
    {
     "name": "stdout",
     "output_type": "stream",
     "text": [
      "Repeticiones:  1000\n",
      "data temperatura:\n",
      "22483.236\n",
      "6177.355097450688\n",
      "23377.296875\n",
      "26645.695\n",
      "data log g:\n",
      "3.1818902\n",
      "0.7523195241036242\n",
      "3.0798089504241943\n",
      "4.178593\n",
      "data velocidad:\n",
      "68.66581\n",
      "61.12136124777695\n",
      "72.93199920654297\n",
      "29.138947\n",
      "fin\n"
     ]
    }
   ],
   "source": [
    "#print(res0)   \n",
    "import statistics\n",
    "print(\"Repeticiones: \",ncorridas)\n",
    "text_file.write(\"\\nRepeticiones;\"+str(ncorridas).replace(\".\",\",\"))\n",
    "mean = statistics.mean(res0)\n",
    "dev = statistics.stdev(res0)\n",
    "mediana = statistics.median(res0)\n",
    "moda = statistics.mode(res0)\n",
    "print(\"data temperatura:\")\n",
    "print(mean)\n",
    "print(dev)\n",
    "print(mediana)\n",
    "print(moda)\n",
    "text_file.write(\"\\ndata temperatura; \")\n",
    "text_file.write(\"\\nmedia;\"+str(mean).replace(\".\",\",\"))\n",
    "text_file.write(\"\\ndev;\"+str(dev).replace(\".\",\",\"))\n",
    "text_file.write(\"\\nmediana;\"+str(mediana).replace(\".\",\",\"))\n",
    "text_file.write(\"\\nmoda;\"+str(moda).replace(\".\",\",\"))\n",
    "mean = statistics.mean(res1)\n",
    "dev = statistics.stdev(res1)\n",
    "mediana = statistics.median(res1)\n",
    "moda = statistics.mode(res1)\n",
    "print(\"data log g:\")\n",
    "print(mean)\n",
    "print(dev)\n",
    "print(mediana)\n",
    "print(moda)\n",
    "text_file.write(\"\\ndata logg; \")\n",
    "text_file.write(\"\\nmedia;\"+str(mean).replace(\".\",\",\"))\n",
    "text_file.write(\"\\ndev;\"+str(dev).replace(\".\",\",\"))\n",
    "text_file.write(\"\\nmediana;\"+str(mediana).replace(\".\",\",\"))\n",
    "text_file.write(\"\\nmoda;\"+str(moda).replace(\".\",\",\"))\n",
    "mean = statistics.mean(res2)\n",
    "dev = statistics.stdev(res2)\n",
    "mediana = statistics.median(res2)\n",
    "moda = statistics.mode(res2)\n",
    "print(\"data velocidad:\")\n",
    "print(mean)\n",
    "print(dev)\n",
    "print(mediana)\n",
    "print(moda)\n",
    "text_file.write(\"\\ndata velocidad; \")\n",
    "text_file.write(\"\\nmedia;\"+str(mean).replace(\".\",\",\"))\n",
    "text_file.write(\"\\ndev;\"+str(dev).replace(\".\",\",\"))\n",
    "text_file.write(\"\\nmediana;\"+str(mediana).replace(\".\",\",\"))\n",
    "text_file.write(\"\\nmoda;\"+str(moda).replace(\".\",\",\"))\n",
    "print(\"fin\")   "
   ]
  },
  {
   "cell_type": "code",
   "execution_count": 55,
   "id": "93f77c2e",
   "metadata": {},
   "outputs": [
    {
     "data": {
      "image/png": "[encoded data removed]",
      "text/plain": [
       "<Figure size 432x288 with 1 Axes>"
      ]
     },
     "metadata": {
      "needs_background": "light"
     },
     "output_type": "display_data"
    },
    {
     "data": {
      "image/png": "[encoded data removed]",
      "text/plain": [
       "<Figure size 432x288 with 1 Axes>"
      ]
     },
     "metadata": {
      "needs_background": "light"
     },
     "output_type": "display_data"
    },
    {
     "data": {
      "image/png": "[encoded data removed]",
      "text/plain": [
       "<Figure size 432x288 with 1 Axes>"
      ]
     },
     "metadata": {
      "needs_background": "light"
     },
     "output_type": "display_data"
    }
   ],
   "source": [
    "plt.figure()\n",
    "plt.hist(res0, label=\"temperatura\")\n",
    "plt.legend(loc=\"best\")\n",
    "plt.savefig(\"../informe1/\"+prefijo+\"_prediccion_temperatura_e\"+str(epochs)+\"_l\"+str(nlayers)+\".png\",dpi='figure') #save as png\n",
    "plt.show()\n",
    "\n",
    "plt.figure()\n",
    "plt.hist(res1, label=\"logg\")\n",
    "plt.legend(loc=\"best\")\n",
    "plt.savefig(\"../informe1/\"+prefijo+\"_prediccion_logg_e\"+str(epochs)+\"_l\"+str(nlayers)+\".png\",dpi='figure') #save as png\n",
    "plt.show()\n",
    "\n",
    "plt.figure()\n",
    "plt.hist(res2, label=\"velocidad\")\n",
    "plt.legend(loc=\"best\")\n",
    "plt.savefig(\"../informe1/\"+prefijo+\"_prediccion_velocidad_e\"+str(epochs)+\"_l\"+str(nlayers)+\".png\",dpi='figure') #save as png\n",
    "plt.show()\n",
    "\n",
    "text_file.close()"
   ]
  },
  {
   "cell_type": "code",
   "execution_count": null,
   "id": "043cf18f",
   "metadata": {},
   "outputs": [],
   "source": []
  },
  {
   "cell_type": "code",
   "execution_count": null,
   "id": "ddfe1174",
   "metadata": {},
   "outputs": [],
   "source": []
  }
 ],
 "metadata": {
  "kernelspec": {
   "display_name": "Python 3 (ipykernel)",
   "language": "python",
   "name": "python3"
  },
  "language_info": {
   "codemirror_mode": {
    "name": "ipython",
    "version": 3
   },
   "file_extension": ".py",
   "mimetype": "text/x-python",
   "name": "python",
   "nbconvert_exporter": "python",
   "pygments_lexer": "ipython3",
   "version": "3.10.4"
  }
 },
 "nbformat": 4,
 "nbformat_minor": 5
}
